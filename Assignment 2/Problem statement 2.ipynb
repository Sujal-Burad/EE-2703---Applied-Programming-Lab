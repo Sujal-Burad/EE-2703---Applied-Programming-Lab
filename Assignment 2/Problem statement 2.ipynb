{
 "cells": [
  {
   "cell_type": "markdown",
   "id": "1d077f98-2b48-4624-890f-bbcde75b50f8",
   "metadata": {},
   "source": [
    "# Speed of computation\n",
    "\n",
    "Python, being an interpreted language, tends to be slower than compiled languages like C or Fortran.  Some other languages like Java and Julia tend to use Just-in-Time compilation which can give speedups, but Python also has the problem of being dynamically typed, which eliminates the possibility of many optimizations.\n",
    "\n",
    "The `timeit` library provides functions to estimate the time taken to run a piece of code.  It can automatically run the code multiple times to get better average results, and can be used to identify bottlenecks in your program.  However, it should be used with care as it is not a detailed function-call-level profiler.\n",
    "\n",
    "It can either be `import`ed as a module where you can then explicitly called `timeit.timeit(func)` to estimate time for a function, or you can use the *magic syntax* in Python notebooks as shown below.  "
   ]
  },
  {
   "cell_type": "code",
   "execution_count": null,
   "id": "58b588ff-6005-4a1e-9329-9189134b7653",
   "metadata": {},
   "outputs": [],
   "source": [
    "import numpy as np\n",
    "x = np.random.rand(10000,1)"
   ]
  },
  {
   "cell_type": "code",
   "execution_count": null,
   "id": "63c29c38-213f-439e-a7a4-1bc71a6a147b",
   "metadata": {},
   "outputs": [],
   "source": [
    "def sumarr(x):\n",
    "    sum = 0\n",
    "    for i in range(len(x)): \n",
    "    # for i in x:\n",
    "        sum += x[i]\n",
    "    return sum\n",
    "print(sumarr(x))\n",
    "%timeit sumarr(x)"
   ]
  },
  {
   "cell_type": "code",
   "execution_count": null,
   "id": "3685cabc-ea32-40cf-923d-efacf040bba1",
   "metadata": {},
   "outputs": [],
   "source": [
    "import numpy as np\n",
    "def npsumarr(x):\n",
    "    return np.sum(x)\n",
    "print(npsumarr(x))\n",
    "%timeit npsumarr(x)"
   ]
  },
  {
   "cell_type": "markdown",
   "id": "45165b44-8c0e-43ca-a3bb-c1da937c5919",
   "metadata": {},
   "source": [
    "# Solving equations by Gaussian elimination\n",
    "\n",
    "Once you have constructed two matrices A and B to represent the system of linear equations \n",
    "$$ Ax = b $$\n",
    "you can then proceed to solve the equations using the process known as Gaussian elimination.\n",
    "\n",
    "It is assumed you already know how the process works, but to refresh your memory, you could use the reference material at [LibreTexts](https://math.libretexts.org/Bookshelves/Algebra/Book%3A_Algebra_and_Trigonometry_(OpenStax)/11%3A_Systems_of_Equations_and_Inequalities/11.06%3A_Solving_Systems_with_Gaussian_Elimination).\n",
    "\n",
    "Basically it involves making the A matrix *triangular* and ultimately into the shape of an identity matrix."
   ]
  },
  {
   "cell_type": "code",
   "execution_count": null,
   "id": "2985880d-bf0b-465c-85e6-2b9aa2e036ad",
   "metadata": {},
   "outputs": [],
   "source": [
    "# Input matrices - the set of equations - 2 variables x1 and x2\n",
    "A = [ [2,3], [1,-1] ]\n",
    "B = [6,1/2]\n",
    "print(A)\n",
    "print(B)"
   ]
  },
  {
   "cell_type": "code",
   "execution_count": null,
   "id": "57c201b5-1d27-4bfb-9f65-1075568463b3",
   "metadata": {},
   "outputs": [],
   "source": [
    "# Normalize row 1\n",
    "norm = A[0][0]\n",
    "for i in range(len(A[0])): A[0][i] /= norm\n",
    "B[0] = B[0]/norm\n",
    "print(A)\n",
    "print(B)"
   ]
  },
  {
   "cell_type": "code",
   "execution_count": null,
   "id": "02eec543-407f-43ba-b59a-1a9abe46942c",
   "metadata": {},
   "outputs": [],
   "source": [
    "# Eliminate row 2 - A[1] - need to check and ensure div-by-zero etc doesnt happen\n",
    "norm = A[1][0] / A[0][0]\n",
    "for i in range(len(A[1])): A[1][i] = A[1][i] - A[0][i] * norm\n",
    "B[1] = B[1] - B[0] * norm\n",
    "print(A)\n",
    "print(B)"
   ]
  },
  {
   "cell_type": "code",
   "execution_count": null,
   "id": "e6d17637-4f8d-4b50-b051-f3f95520d5b9",
   "metadata": {},
   "outputs": [],
   "source": [
    "# Normalize row 2 - B[1] will now contain the solution for x2\n",
    "norm = A[1][1]\n",
    "for i in range(len(A[1])): A[1][i] = A[1][i] / norm\n",
    "B[1] = B[1] / norm\n",
    "print(A)\n",
    "print(B)"
   ]
  },
  {
   "cell_type": "code",
   "execution_count": null,
   "id": "eae41cdb-dde7-48c4-a93a-3dfa9a9dd3a0",
   "metadata": {},
   "outputs": [],
   "source": [
    "# Sub back and solve for B[0] <-> x1\n",
    "# This can be seen as eliminating A[0][1]\n",
    "norm = A[0][1] / A[0][0]\n",
    "# note that len(A) will give number of rows\n",
    "for i in range(len(A)): \n",
    "    A[i][1] = A[i][1] - A[i][0] * norm\n",
    "    B[i] = B[i] - A[i][0] * norm\n",
    "print(A)\n",
    "print(B)"
   ]
  },
  {
   "cell_type": "markdown",
   "id": "098cf3af-1055-4131-b7e3-68ee9637939f",
   "metadata": {
    "tags": []
   },
   "source": [
    "## Problems with Gaussian elimination\n",
    "\n",
    "There are several obvious problems with the method outlined here.  These include:\n",
    "\n",
    "- Performance - Python lists are not the most efficient way to store matrices\n",
    "- Zeros: the simple example does not consider a scenario where one of the values on the diagonal may be 0.  Then some shuffling of rows is required.\n",
    "- Numerical stability: there are several *normalization* steps involved, where it is quite possible for the values to blow up out of control if not managed properly.  Usually some kind of pivoting techniques are used to get around these issues."
   ]
  },
  {
   "cell_type": "code",
   "execution_count": null,
   "id": "2888f5f6-0d58-4252-b15a-cb240ca98c07",
   "metadata": {},
   "outputs": [],
   "source": [
    "import numpy as np\n",
    "A1 = np.array( [ [2,3], [1,-1] ] )\n",
    "B1 = np.array( [6, 1/2] )\n",
    "np.linalg.solve(A1, B1)"
   ]
  },
  {
   "cell_type": "markdown",
   "id": "986c1d41-e4d1-42aa-a274-227e816cd2d3",
   "metadata": {},
   "source": [
    "# Library functions\n",
    "\n",
    "*Numeric Python* or `numpy` is a library that allows Python code to directly call highly efficient implementations of several linear algebra routines (that have been written and optimized using C or Fortran and generally offer very high performance).\n",
    "\n",
    "Although you can use the same `list` based approach to create matrices, it is better to declare them as the `array` data type:\n",
    "\n",
    "- the numeric `type` (float, int etc.) can be specified for arrays\n",
    "- memory allocation is done more efficiently by assuming they are not meant to be arbitrarily extended or changed"
   ]
  },
  {
   "attachments": {},
   "cell_type": "markdown",
   "id": "140f68a1-0072-4fe3-9dd4-1c946e93b8b5",
   "metadata": {},
   "source": [
    "# SPICE basics\n",
    "\n",
    "Our goal is to implement a SPICE simulator.  In order to do this, we first need to read in the circuit description from a text file.  To start with, we will only consider the basic elements of SPICE: Voltage sources, Current sources, and Resistors.  A typical SPICE netlist would look like this:\n",
    "\n",
    "```spice\n",
    ".circuit\n",
    "R1 GND 1 1  \n",
    "R2 1 2 1    \n",
    "V1 2 GND dc 2\n",
    ".end\n",
    "```\n",
    "\n",
    "This is basically a *netlist* with 3 *nodes* - one of which is Ground (GND) which is assumed to be have a voltage of 0V.  We can write down Kirchhoff's current law (KCL) equations at each node, to account for current balance.  In addition, we will have some equations that specify the voltages between nodes having a direct voltage source, since there is no resistance there to provide an equation.\n",
    "\n",
    "For the above example, the equations will be\n",
    "\n",
    "$$\n",
    "\\begin{aligned}\n",
    "\\frac{V1-0}{R1} & + & \\frac{V1-V2}{R2} & = & 0 \\\\\n",
    "\\frac{V2-V1}{R2} & + & I1 & = & 0 \\\\\n",
    "V2 & - & 0 & = & 2\n",
    "\\end{aligned}\n",
    "$$\n",
    "\n",
    "which can be written in Matrix form as:\n",
    "\n",
    "$$\n",
    "\\begin{bmatrix}\n",
    "\\frac{1}{R1}+\\frac{1}{R2} & \\frac{-1}{R2} & 0 \\\\\n",
    "\\frac{-1}{R2}   & \\frac{1}{R2}  & 1 \\\\\n",
    "0  & 1  & 0\n",
    "\\end{bmatrix}\n",
    "\\begin{bmatrix}\n",
    "V1 \\\\\n",
    "V2 \\\\\n",
    "I1\n",
    "\\end{bmatrix}\n",
    "=\n",
    "\\begin{bmatrix}\n",
    "0 \\\\\n",
    "0 \\\\\n",
    "2\n",
    "\\end{bmatrix}\n",
    "$$\n",
    "\n",
    "At this point, you have reduced the solving of the SPICE equations to a known problem (linear equation solving) that you already know how to do."
   ]
  },
  {
   "attachments": {},
   "cell_type": "markdown",
   "id": "10067a6c",
   "metadata": {},
   "source": [
    "## AC sources\n",
    "\n",
    "The assumption above is that the system consists only of Voltage or Current sources and resistors.  What about capacitors, inductors, and AC sources?  These can be handled in exactly the same way as long as the circuit is operating at a single frequency.  We then replace the elements with their corresponding *impedance* values, which are frequency dependent complex numbers, but since there is only a single frequency they will still be constants."
   ]
  },
  {
   "attachments": {},
   "cell_type": "markdown",
   "id": "1485d399",
   "metadata": {},
   "source": [
    "## Problem scenarios\n",
    "\n",
    "- Voltage source loops\n",
    "- Current sources at a node\n",
    "- Circuit defined with both DC and AC sources\n",
    "- Syntax errors"
   ]
  },
  {
   "attachments": {},
   "cell_type": "markdown",
   "id": "6d214d59",
   "metadata": {},
   "source": [
    "# String and File manipulation\n",
    "\n",
    "Given a SPICE netlist like the one above, you need to *read* it and construct an internal matrix as described above.  For string manipulation, there are a few helpful utility functions that we can see here."
   ]
  },
  {
   "cell_type": "code",
   "execution_count": null,
   "id": "0d0f9ed2",
   "metadata": {},
   "outputs": [],
   "source": [
    "circ = \"\"\".circuit\n",
    "R1 GND 1 1  \n",
    "R2 1 2 1    \n",
    "V1 GND 2 dc 2\n",
    ".end\n",
    "\"\"\".splitlines()\n",
    "for l in circ:\n",
    "    if l[0] == 'R':\n",
    "        print(\"Found a resistor\")\n",
    "    elif l[0] == 'V':\n",
    "        print(\"Found a voltage source with value: \", float(l.split()[4]))"
   ]
  },
  {
   "attachments": {},
   "cell_type": "markdown",
   "id": "18d4c59c",
   "metadata": {},
   "source": [
    "## Files\n",
    "\n",
    "You can read from a file using the `readlines()` method of file objects.  One thing to keep in mind is how you open and close file objects.  In particular, it is strongly recommended to use the pattern `with open(\"filename\") as f:` to ensure that the file is closed once you are done with reading it.  "
   ]
  },
  {
   "attachments": {},
   "cell_type": "markdown",
   "id": "5b45ec84",
   "metadata": {},
   "source": [
    "# Assignment\n",
    "\n",
    "The following are the problems you need to solve for this assignment.  You need to submit your code (either as standalone Python script or a Python notebook), a PDF document explaining your solution (either generated from the notebook or a separate LaTeX document), and any supporting files you may have (such as circuit netlists you used for testing your code).\n",
    "\n",
    "- Write a function to find the factorial of N (N being an input) and find the time taken to compute it.  This will obviously depend on where you run the code and which approach you use to implement the factorial.  Explain your observations briefly.\n",
    "- Write a linear equation solver that will take in matrices $A$ and $b$ as inputs, and return the vector $x$ that solves the equation $Ax=b$.  Your function should catch errors in the inputs and return suitable error messages for different possible problems.\n",
    "  - Time your solver to solve a random $10\\times 10$ system of equations.  Compare the time taken against the `numpy.linalg.solve` function for the same inputs.\n",
    "- Given a circuit netlist in the form described above, read it in from a file, construct the appropriate matrices, and use the solver you have written above to obtain the voltages and currents in the circuit.  If you find AC circuits hard to handle, first do this for pure DC circuits, but you should be able to handle both voltage and current sources.\n",
    "\n",
    "## Bonus assignments\n",
    "\n",
    "- (Small bonus): after reading in the netlist, allow some or all sources and impedances to be controlled interactively - either using widgets or other mechanisms.  On each change you should recompute the currents and voltages and display them.\n",
    "- (Large bonus): make a solver that can do real-time transient simulations of a SPICE netlist and update the currents and voltages dynamically.  They should also be plotted as a function of time and react to changes.  This is something along the lines of https://www.falstad.com/circuit/.  Ideally you should be able to do a real-time demo of some experiments you might conduct as part of a basic electronics lab, and simulate the behaviour of an oscilloscope and signal generator."
   ]
  }
 ],
 "metadata": {
  "kernelspec": {
   "display_name": "appdev",
   "language": "python",
   "name": "python3"
  },
  "language_info": {
   "codemirror_mode": {
    "name": "ipython",
    "version": 3
   },
   "file_extension": ".py",
   "mimetype": "text/x-python",
   "name": "python",
   "nbconvert_exporter": "python",
   "pygments_lexer": "ipython3",
   "version": "3.8.15"
  },
  "vscode": {
   "interpreter": {
    "hash": "135c9c029983d30fe2c25215b219c39403965bc9bf9257a46b5d1e1e22d97d61"
   }
  }
 },
 "nbformat": 4,
 "nbformat_minor": 5
}
