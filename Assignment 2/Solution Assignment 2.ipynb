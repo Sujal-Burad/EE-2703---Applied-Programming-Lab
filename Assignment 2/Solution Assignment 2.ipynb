{
 "cells": [
  {
   "cell_type": "markdown",
   "id": "1d077f98-2b48-4624-890f-bbcde75b50f8",
   "metadata": {},
   "source": [
    "# Speed of computation\n",
    "\n",
    "Python, being an interpreted language, tends to be slower than compiled languages like C or Fortran.  Some other languages like Java and Julia tend to use Just-in-Time compilation which can give speedups, but Python also has the problem of being dynamically typed, which eliminates the possibility of many optimizations.\n",
    "\n",
    "The `timeit` library provides functions to estimate the time taken to run a piece of code.  It can automatically run the code multiple times to get better average results, and can be used to identify bottlenecks in your program.  However, it should be used with care as it is not a detailed function-call-level profiler.\n",
    "\n",
    "It can either be `import`ed as a module where you can then explicitly called `timeit.timeit(func)` to estimate time for a function, or you can use the *magic syntax* in Python notebooks as shown below.  "
   ]
  },
  {
   "cell_type": "markdown",
   "id": "58b588ff-6005-4a1e-9329-9189134b7653",
   "metadata": {},
   "source": [
    "import numpy as np\n",
    "x = np.random.rand(10000,1)"
   ]
  },
  {
   "cell_type": "code",
   "execution_count": 1,
   "id": "0b66983e",
   "metadata": {},
   "outputs": [],
   "source": [
    "import numpy as np\n",
    "x=np.random.rand(10000, 1)"
   ]
  },
  {
   "cell_type": "code",
   "execution_count": 2,
   "id": "63c29c38-213f-439e-a7a4-1bc71a6a147b",
   "metadata": {},
   "outputs": [
    {
     "name": "stdout",
     "output_type": "stream",
     "text": [
      "[5048.51248205]\n",
      "11 ms ± 238 µs per loop (mean ± std. dev. of 7 runs, 100 loops each)\n"
     ]
    }
   ],
   "source": [
    "def sumarr(x):\n",
    "    sum = 0\n",
    "    for i in range(len(x)): \n",
    "    # for i in x:\n",
    "        sum += x[i]\n",
    "    return sum\n",
    "print(sumarr(x))\n",
    "%timeit sumarr(x)"
   ]
  },
  {
   "cell_type": "code",
   "execution_count": 3,
   "id": "3685cabc-ea32-40cf-923d-efacf040bba1",
   "metadata": {},
   "outputs": [
    {
     "name": "stdout",
     "output_type": "stream",
     "text": [
      "5048.512482048594\n",
      "6.56 µs ± 62 ns per loop (mean ± std. dev. of 7 runs, 100,000 loops each)\n"
     ]
    }
   ],
   "source": [
    "import numpy as np\n",
    "def npsumarr(x):\n",
    "    return np.sum(x)\n",
    "print(npsumarr(x))\n",
    "%timeit npsumarr(x)"
   ]
  },
  {
   "cell_type": "markdown",
   "id": "45165b44-8c0e-43ca-a3bb-c1da937c5919",
   "metadata": {},
   "source": [
    "# Solving equations by Gaussian elimination\n",
    "\n",
    "Once you have constructed two matrices A and B to represent the system of linear equations \n",
    "$$ Ax = b $$\n",
    "you can then proceed to solve the equations using the process known as Gaussian elimination.\n",
    "\n",
    "It is assumed you already know how the process works, but to refresh your memory, you could use the reference material at [LibreTexts](https://math.libretexts.org/Bookshelves/Algebra/Book%3A_Algebra_and_Trigonometry_(OpenStax)/11%3A_Systems_of_Equations_and_Inequalities/11.06%3A_Solving_Systems_with_Gaussian_Elimination).\n",
    "\n",
    "Basically it involves making the A matrix *triangular* and ultimately into the shape of an identity matrix."
   ]
  },
  {
   "cell_type": "code",
   "execution_count": 4,
   "id": "2985880d-bf0b-465c-85e6-2b9aa2e036ad",
   "metadata": {},
   "outputs": [
    {
     "name": "stdout",
     "output_type": "stream",
     "text": [
      "[[2, 3], [1, -1]]\n",
      "[6, 0.5]\n"
     ]
    }
   ],
   "source": [
    "# Input matrices - the set of equations - 2 variables x1 and x2z\n",
    "A = [ [2,3], [1,-1] ]\n",
    "B = [6,1/2]\n",
    "print(A)\n",
    "print(B)"
   ]
  },
  {
   "cell_type": "code",
   "execution_count": 5,
   "id": "57c201b5-1d27-4bfb-9f65-1075568463b3",
   "metadata": {},
   "outputs": [
    {
     "name": "stdout",
     "output_type": "stream",
     "text": [
      "[[1.0, 1.5], [1, -1]]\n",
      "[3.0, 0.5]\n"
     ]
    }
   ],
   "source": [
    "# Normalize row 1\n",
    "norm = A[0][0]\n",
    "for i in range(len(A[0])): A[0][i] /= norm\n",
    "B[0] = B[0]/norm\n",
    "print(A)\n",
    "print(B)"
   ]
  },
  {
   "cell_type": "code",
   "execution_count": 6,
   "id": "02eec543-407f-43ba-b59a-1a9abe46942c",
   "metadata": {},
   "outputs": [
    {
     "name": "stdout",
     "output_type": "stream",
     "text": [
      "[[1.0, 1.5], [0.0, -2.5]]\n",
      "[3.0, -2.5]\n"
     ]
    }
   ],
   "source": [
    "# Eliminate row 2 - A[1] - need to check and ensure div-by-zero etc doesnt happen\n",
    "norm = A[1][0] / A[0][0]\n",
    "for i in range(len(A[1])): A[1][i] = A[1][i] - A[0][i] * norm\n",
    "B[1] = B[1] - B[0] * norm\n",
    "print(A)\n",
    "print(B)"
   ]
  },
  {
   "cell_type": "code",
   "execution_count": 7,
   "id": "e6d17637-4f8d-4b50-b051-f3f95520d5b9",
   "metadata": {},
   "outputs": [
    {
     "name": "stdout",
     "output_type": "stream",
     "text": [
      "[[1.0, 1.5], [-0.0, 1.0]]\n",
      "[3.0, 1.0]\n"
     ]
    }
   ],
   "source": [
    "# Normalize row 2 - B[1] will now contain the solution for x2\n",
    "norm = A[1][1]\n",
    "for i in range(len(A[1])): A[1][i] = A[1][i] / norm\n",
    "B[1] = B[1] / norm\n",
    "print(A)\n",
    "print(B)"
   ]
  },
  {
   "cell_type": "code",
   "execution_count": 8,
   "id": "eae41cdb-dde7-48c4-a93a-3dfa9a9dd3a0",
   "metadata": {},
   "outputs": [
    {
     "name": "stdout",
     "output_type": "stream",
     "text": [
      "[[1.0, 0.0], [-0.0, 1.0]]\n",
      "[1.5, 1.0]\n"
     ]
    }
   ],
   "source": [
    "# Sub back and solve for B[0] <-> x1\n",
    "# This can be seen as eliminating A[0][1]\n",
    "norm = A[0][1] / A[0][0]\n",
    "# note that len(A) will give number of rows\n",
    "for i in range(len(A)): \n",
    "    A[i][1] = A[i][1] - A[i][0] * norm\n",
    "    B[i] = B[i] - A[i][0] * norm\n",
    "print(A)\n",
    "print(B)"
   ]
  },
  {
   "cell_type": "markdown",
   "id": "098cf3af-1055-4131-b7e3-68ee9637939f",
   "metadata": {
    "tags": []
   },
   "source": [
    "## Problems with Gaussian elimination\n",
    "\n",
    "There are several obvious problems with the method outlined here.  These include:\n",
    "\n",
    "- Performance - Python lists are not the most efficient way to store matrices\n",
    "- Zeros: the simple example does not consider a scenario where one of the values on the diagonal may be 0.  Then some shuffling of rows is required.\n",
    "- Numerical stability: there are several *normalization* steps involved, where it is quite possible for the values to blow up out of control if not managed properly.  Usually some kind of pivoting techniques are used to get around these issues."
   ]
  },
  {
   "cell_type": "code",
   "execution_count": 9,
   "id": "2888f5f6-0d58-4252-b15a-cb240ca98c07",
   "metadata": {},
   "outputs": [
    {
     "data": {
      "text/plain": [
       "array([1.5, 1. ])"
      ]
     },
     "execution_count": 9,
     "metadata": {},
     "output_type": "execute_result"
    }
   ],
   "source": [
    "import numpy as np\n",
    "A1 = np.array( [ [2,3], [1,-1] ] )\n",
    "B1 = np.array( [6, 1/2] )\n",
    "np.linalg.solve(A1, B1)"
   ]
  },
  {
   "cell_type": "markdown",
   "id": "986c1d41-e4d1-42aa-a274-227e816cd2d3",
   "metadata": {},
   "source": [
    "# Library functions\n",
    "\n",
    "*Numeric Python* or `numpy` is a library that allows Python code to directly call highly efficient implementations of several linear algebra routines (that have been written and optimized using C or Fortran and generally offer very high performance).\n",
    "\n",
    "Although you can use the same `list` based approach to create matrices, it is better to declare them as the `array` data type:\n",
    "\n",
    "- the numeric `type` (float, int etc.) can be specified for arrays\n",
    "- memory allocation is done more efficiently by assuming they are not meant to be arbitrarily extended or changed"
   ]
  },
  {
   "cell_type": "markdown",
   "id": "140f68a1-0072-4fe3-9dd4-1c946e93b8b5",
   "metadata": {},
   "source": [
    "# SPICE basics\n",
    "\n",
    "Our goal is to implement a SPICE simulator.  In order to do this, we first need to read in the circuit description from a text file.  To start with, we will only consider the basic elements of SPICE: Voltage sources, Current sources, and Resistors.  A typical SPICE netlist would look like this:\n",
    "\n",
    "```spice\n",
    ".circuit\n",
    "R1 GND 1 1  \n",
    "R2 1 2 1    \n",
    "V1 GND 2 dc 2\n",
    ".end\n",
    "```\n",
    "\n",
    "This is basically a *netlist* with 3 *nodes* - one of which is Ground (GND) which is assumed to be have a voltage of 0V.  We can write down Kirchhoff's current law (KCL) equations at each node, to account for current balance.  In addition, we will have some equations that specify the voltages between nodes having a direct voltage source, since there is no resistance there to provide an equation.\n",
    "\n",
    "For the above example, the equations will be\n",
    "\n",
    "$$\n",
    "\\begin{aligned}\n",
    "\\frac{V1-0}{R1} & + & \\frac{V1-V2}{R2} & = & 0 \\\\\n",
    "\\frac{V2-V1}{R2} & + & I1 & = & 0 \\\\\n",
    "V2 & - & 0 & = & 2\n",
    "\\end{aligned}\n",
    "$$\n",
    "\n",
    "which can be written in Matrix form as:\n",
    "\n",
    "$$\n",
    "\\begin{bmatrix}\n",
    "\\frac{1}{R1}+\\frac{1}{R2} & \\frac{-1}{R2} & 0 \\\\\n",
    "\\frac{-1}{R2}   & \\frac{1}{R2}  & 1 \\\\\n",
    "0  & 1  & 0\n",
    "\\end{bmatrix}\n",
    "\\begin{bmatrix}\n",
    "V1 \\\\\n",
    "V2 \\\\\n",
    "I1\n",
    "\\end{bmatrix}\n",
    "=\n",
    "\\begin{bmatrix}\n",
    "0 \\\\\n",
    "0 \\\\\n",
    "2\n",
    "\\end{bmatrix}\n",
    "$$\n",
    "\n",
    "At this point, you have reduced the solving of the SPICE equations to a known problem (linear equation solving) that you already know how to do."
   ]
  },
  {
   "cell_type": "markdown",
   "id": "10067a6c",
   "metadata": {},
   "source": [
    "## AC sources\n",
    "\n",
    "The assumption above is that the system consists only of Voltage or Current sources and resistors.  What about capacitors, inductors, and AC sources?  These can be handled in exactly the same way as long as the circuit is operating at a single frequency.  We then replace the elements with their corresponding *impedance* values, which are frequency dependent complex numbers, but since there is only a single frequency they will still be constants."
   ]
  },
  {
   "cell_type": "markdown",
   "id": "1485d399",
   "metadata": {},
   "source": [
    "## Problem scenarios\n",
    "\n",
    "- Voltage source loops\n",
    "- Current sources at a node\n",
    "- Circuit defined with both DC and AC sources\n",
    "- Syntax errors"
   ]
  },
  {
   "cell_type": "markdown",
   "id": "6d214d59",
   "metadata": {},
   "source": [
    "# String and File manipulation\n",
    "\n",
    "Given a SPICE netlist like the one above, you need to *read* it and construct an internal matrix as described above.  For string manipulation, there are a few helpful utility functions that we can see here."
   ]
  },
  {
   "cell_type": "code",
   "execution_count": 10,
   "id": "0d0f9ed2",
   "metadata": {},
   "outputs": [
    {
     "name": "stdout",
     "output_type": "stream",
     "text": [
      "Found a resistor\n",
      "Found a resistor\n",
      "Found a voltage source with value:  2.0\n"
     ]
    }
   ],
   "source": [
    "circ = \"\"\".circuit\n",
    "R1 GND 1 1  \n",
    "R2 1 2 1    \n",
    "V1 GND 2 dc 2\n",
    ".end\n",
    "\"\"\".splitlines()\n",
    "# print(circ)\n",
    "for l in circ:\n",
    "    if l[0] == 'R':\n",
    "        print(\"Found a resistor\")\n",
    "    elif l[0] == 'V':\n",
    "        print(\"Found a voltage source with value: \", float(l.split()[4]))"
   ]
  },
  {
   "cell_type": "markdown",
   "id": "18d4c59c",
   "metadata": {},
   "source": [
    "## Files\n",
    "\n",
    "You can read from a file using the `readlines()` method of file objects.  One thing to keep in mind is how you open and close file objects.  In particular, it is strongly recommended to use the pattern `with open(\"filename\") as f:` to ensure that the file is closed once you are done with reading it.  "
   ]
  },
  {
   "cell_type": "markdown",
   "id": "5b45ec84",
   "metadata": {},
   "source": [
    "# Assignment\n",
    "\n",
    "The following are the problems you need to solve for this assignment.  You need to submit your code (either as standalone Python script or a Python notebook), a PDF document explaining your solution (either generated from the notebook or a separate LaTeX document), and any supporting files you may have (such as circuit netlists you used for testing your code).\n",
    "\n",
    "- Write a function to find the factorial of N (N being an input) and find the time taken to compute it.  This will obviously depend on where you run the code and which approach you use to implement the factorial.  Explain your observations briefly.\n",
    "- Write a linear equation solver that will take in matrices $A$ and $b$ as inputs, and return the vector $x$ that solves the equation $Ax=b$.  Your function should catch errors in the inputs and return suitable error messages for different possible problems.\n",
    "  - Time your solver to solve a random $10\\times 10$ system of equations.  Compare the time taken against the `numpy.linalg.solve` function for the same inputs.\n",
    "- Given a circuit netlist in the form described above, read it in from a file, construct the appropriate matrices, and use the solver you have written above to obtain the voltages and currents in the circuit.  If you find AC circuits hard to handle, first do this for pure DC circuits, but you should be able to handle both voltage and current sources.\n",
    "\n",
    "## Bonus assignments\n",
    "\n",
    "- (Small bonus): after reading in the netlist, allow some or all sources and impedances to be controlled interactively - either using widgets or other mechanisms.  On each change you should recompute the currents and voltages and display them.\n",
    "- (Large bonus): make a solver that can do real-time transient simulations of a SPICE netlist and update the currents and voltages dynamically.  They should also be plotted as a function of time and react to changes.  This is something along the lines of https://www.falstad.com/circuit/.  Ideally you should be able to do a real-time demo of some experiments you might conduct as part of a basic electronics lab, and simulate the behaviour of an oscilloscope and signal generator."
   ]
  },
  {
   "cell_type": "markdown",
   "id": "df89d480",
   "metadata": {},
   "source": [
    "## Libraries imported\n",
    "Assuming numpy and math libraries have been installed on the machine"
   ]
  },
  {
   "cell_type": "code",
   "execution_count": 11,
   "id": "d2b89ee3",
   "metadata": {},
   "outputs": [],
   "source": [
    "import numpy as np\n",
    "import math # To use math.pi in solving AC circuit netlist."
   ]
  },
  {
   "cell_type": "markdown",
   "id": "b672c8fa",
   "metadata": {},
   "source": [
    "## 1] Factorial"
   ]
  },
  {
   "cell_type": "markdown",
   "id": "5c2992c5",
   "metadata": {},
   "source": [
    "### Method 1\n",
    "1] Here I have used a for loop to find the factorial of the number.                  \n",
    "\n",
    "2] The variable prod calculates the factorial of number by multiplication of numbers from 1 to n.\n",
    "\n",
    "3] The variable prod is returned by the function after completing the for loop."
   ]
  },
  {
   "cell_type": "code",
   "execution_count": 12,
   "id": "b5729a52",
   "metadata": {},
   "outputs": [
    {
     "name": "stdout",
     "output_type": "stream",
     "text": [
      "3628800\n",
      "433 ns ± 9.48 ns per loop (mean ± std. dev. of 7 runs, 1,000,000 loops each)\n"
     ]
    }
   ],
   "source": [
    "def factorial_1(N):\n",
    "    if(N<0):\n",
    "        return \"Factorial does not exist\"\n",
    "    prod=1\n",
    "    for i in range(1, N+1):\n",
    "        prod=prod*i\n",
    "    return prod\n",
    "\n",
    "print(factorial_1(10))\n",
    "%timeit factorial_1(10)"
   ]
  },
  {
   "cell_type": "markdown",
   "id": "20975a11",
   "metadata": {},
   "source": [
    "### Method 2\n",
    "1] Here I have used the recursiveness of the loop, to calculate the factorial of number.\n",
    "\n",
    "2] The factorial of N is calculated by multiplying N with factorial of (N-1), and so on.\n",
    "\n",
    "3] If N=1, then 1 is returned.\n",
    "\n",
    "At the end we get the factorial of number."
   ]
  },
  {
   "cell_type": "code",
   "execution_count": 13,
   "id": "5a1c45ba",
   "metadata": {},
   "outputs": [
    {
     "name": "stdout",
     "output_type": "stream",
     "text": [
      "3628800\n",
      "1.07 µs ± 15.2 ns per loop (mean ± std. dev. of 7 runs, 1,000,000 loops each)\n"
     ]
    }
   ],
   "source": [
    "def factorial_2(N):\n",
    "    if(N<0):\n",
    "        return \"Factorial does not exist\"\n",
    "    \n",
    "    if (N==1 or N==0):\n",
    "        return N\n",
    "    else:\n",
    "        return N*factorial_2(N-1)\n",
    "\n",
    "print(factorial_2(10))\n",
    "%timeit factorial_2(10)"
   ]
  },
  {
   "cell_type": "markdown",
   "id": "c674ab83",
   "metadata": {},
   "source": [
    "It can be seen that, according to %timeit, we get the factorial of a number faster by running a for loop than using the recursiveness of the function"
   ]
  },
  {
   "cell_type": "markdown",
   "id": "9854062f",
   "metadata": {},
   "source": [
    "## 2] Linear equation solver:"
   ]
  },
  {
   "cell_type": "markdown",
   "id": "0a505b4f",
   "metadata": {},
   "source": [
    "The idea that I have used to solve the linear equation is of Gaussian elimination, where we first create an upper triangular matrix, and check for the case of : <br> &emsp;a] Consistent, and <br> &emsp;b] Inconsistent solutions\n",
    "\n",
    "In Inconsistent solutions, we can get : a] No solution, and b] Infinte solution.\n",
    "\n",
    "When we get the case of Consistent solution, I have found the solution for the linear equation using back substitution, and printed them out. "
   ]
  },
  {
   "cell_type": "markdown",
   "id": "b7b086c3",
   "metadata": {},
   "source": [
    "#### shape_check():\n",
    "1] This function is used to check if the given matrix A, is a square matrix.\n",
    "\n",
    "2] It also checks the equality of number of rows of A with the number of rows in B.\n",
    "\n",
    "If the above condtions do not satisfy, its an invalid equation, and no solution is possible.\n",
    "\n",
    "If the above conditions are satisfied, they are valid equations, and there might be a chance to get the solutions (Consistent and inconsistent)."
   ]
  },
  {
   "cell_type": "code",
   "execution_count": 14,
   "id": "7d93cc4e",
   "metadata": {},
   "outputs": [],
   "source": [
    "def shape_check(A, b):\n",
    "    for i in range(len(A)):\n",
    "        if(len(A)!=len(A[i])):\n",
    "            print(\"Invalid linear equations, no solution is possible\")\n",
    "            return False\n",
    "        if(len(b)!=len(A) or len(b)!=len(A[i])):\n",
    "            print(\"Invalid linear equations, no solution is possible\")\n",
    "            return False\n",
    "    else:\n",
    "        print(\"Valid linear equations, solutions may be possible\")\n",
    "        return True    "
   ]
  },
  {
   "cell_type": "markdown",
   "id": "ce6fe4cc",
   "metadata": {},
   "source": [
    "\n",
    "#### 1] row_zero_check(A, b, row, col):\n",
    "This function is used to print out if the solution is a] No solution, or b] Infinite solution.                                   \n",
    "\n",
    "When we get the complete row of A as zero while simplification we can say that,  \n",
    "&emsp; a] If the corresponding row element of B is zero, then there are infinite solutions,      \n",
    "&emsp; b] If the corresponding row element of B is non-zero, then there are No solutions.\n",
    "\n",
    "I have used the raise Exception for  'Infinte solution', which prints out  'Infinite solution' at the end, if we do not get any condition of  'No solution' after the current row. If there is a case of  'No solution' after this row, even if the  'Infinite solution' exception is raised, there is  'No solution' for the linear equations.\n",
    "\n",
    "So, the condition of  'No solution' is dominant over the 'Infinite solution'. And, it will be raised over that of 'Infintite solution', if its raised.\n",
    "\n",
    "<br>\n",
    " \n",
    "#### 2] col_swap(A, b, row, col):\n",
    "   a] While moving in the diagonal, if we get a zero element, we will first try to swap it with the first of below rows               containing non-zero element at the corresponding column of the the diagonal element.     \n",
    "   \n",
    "   \n",
    "   b] If all the below row element at the corresponding diagonal element's column are zero, I will do a column swap. \n",
    "   \n",
    "   \n",
    "In column swap, I will look for columns ahead of the current diagonal element, at the same corresponding row, and will swap the first one, if I get a non-zero element in that column. \n",
    "While doing this, if I get all the row elements below and column elements ahead as zero, the function row_zero_check(A, b, row, col) will be called.\n",
    "\n",
    "<br>\n",
    "\n",
    "#### 3] row_swap(A, b, row, col):\n",
    "   a] While moving in the diagonal, if I get the element as zero, I will do a row swap.                                               \n",
    "\n",
    "   b] In row swap, I will look for rows below the corresponding row, whose column is same as the diagonal's, and swap with the         first one, when it is non-zero.\n",
    "\n",
    "While doing this, if I do not any get row whose corresponding column element is non-zero, the function col_swap(A, b, row, col) will be called.\n",
    "\n",
    "<br>\n",
    "\n",
    "#### 4] function(A, b):\n",
    "This takes the matrix A and b.    \n",
    "   a] <b>try block</b> :                                                                                                               \n",
    "&emsp;        i] The try block is used to normalize the row, and subtract this row from the other rows to get the upper triangular matrix needed for Gaussian elimination.                                                                               \n",
    "&emsp;       ii] There are two cases for the normalizing factor :  one where it is zero, in which case I have called the   row_swap(A, b, row, col) function to get the normalizing element as zero.                                             \n",
    "           The other case is when the normalizing factor is non-zero, in which I have used it to subtract it from the other rows            as it is done for Gaussian elimination.\n",
    "    \n",
    "   b] <b>except block</b> :                                                                                                             \n",
    "      This block is used to raise the Exception of \"Infinite solution\" or \"No solution\" when one of them is raised from the           row_zer_check(A, b, row, col), and is printed when the requirements are satisfied.\n",
    "\n",
    "<br>"
   ]
  },
  {
   "cell_type": "markdown",
   "id": "cd0e6023",
   "metadata": {},
   "source": [
    "At the end of running this function I have printed out the upper triangular matrix of A, and the correponding matrix b, that i get after running the above functions.\n",
    "<br>\n",
    "A, and b are also returned."
   ]
  },
  {
   "cell_type": "code",
   "execution_count": 15,
   "id": "839456ac",
   "metadata": {},
   "outputs": [],
   "source": [
    "infinite=False\n",
    "def row_zero_check(A, b, row, col):\n",
    "    if(b[row]!=0):\n",
    "        raise Exception(\"NO solutions\")\n",
    "    if(b[row]==0):\n",
    "        infinite=True\n",
    "        raise Exception(\"Infinite solution\")\n",
    "\n",
    "def col_swap(A, b, row, col):\n",
    "    n=len(A)\n",
    "    for i in range(row+1, n):\n",
    "        if(A[row][i]!=0):\n",
    "            for k in range(n):\n",
    "                A[k][row], A[k][i] = A[k][i], A[k][row]\n",
    "            print(A)\n",
    "        return A, b\n",
    "    return row_zero_check(A, b, row, col)\n",
    "\n",
    "def row_swap(A, b, row, col): # checking in the same column\n",
    "    n=len(A) \n",
    "    for i in range(row+1, n):\n",
    "        if(A[i][col]!=0):\n",
    "            A[row], A[i] = A[i], A[row]\n",
    "            b[row], b[i] = b[i], b[row]\n",
    "            return A, b\n",
    "    return col_swap(A, b, row, col)\n",
    "\n",
    "def function(A, b):\n",
    "    n=len(A)\n",
    "    column_number=0\n",
    "\n",
    "    try:\n",
    "        for row in range(n):\n",
    "            norm=A[row][row]\n",
    "            if (norm==0):\n",
    "                A, b = row_swap(A, b, row, row)\n",
    "\n",
    "            if (norm!=0):\n",
    "                A[row]=[ele/norm for ele in A[row]]\n",
    "                b[row] = b[row]/norm\n",
    "                for j in range(row+1, n):\n",
    "                    factor = A[j][row]/(A[row][row])\n",
    "                    for k in range(n):\n",
    "                        A[j][k] = A[j][k] - factor*A[row][k]\n",
    "                    b[j] = b[j]-factor*b[row]\n",
    "\n",
    "        print(\"A matrix = \", A, end=\"\\n\\n\")\n",
    "        print(\"B matrix = \", b, end=\"\\n\\n\")\n",
    "\n",
    "    except Exception as t:\n",
    "        return t\n",
    "    return A, b   "
   ]
  },
  {
   "cell_type": "code",
   "execution_count": 16,
   "id": "8502f4f2",
   "metadata": {},
   "outputs": [],
   "source": [
    "############ COMMENTS(print statements to be removed while using %timeit)###############\n",
    "# In function(A, b)\n",
    "#         print(\"A matrix = \", A, end=\"\\n\\n\")\n",
    "#         print(\"B matrix = \", b, end=\"\\n\\n\")\n",
    "\n",
    "# In solution(A, b)\n",
    "#             print(\"Solutions are = \")"
   ]
  },
  {
   "cell_type": "markdown",
   "id": "d452b67b",
   "metadata": {},
   "source": [
    "\n",
    "#### solution(A, b):\n",
    "This function finds the solution for matrix A and b which are returned by the function function(A, b), previously.               \n",
    "<br>\n",
    "This function first runs the function(A, b), whose return type is tuple, and if it runs properly, the final solution of the equations are printed out by following back substitution.                                                                       \n",
    "<br>\n",
    "In back substitution, we start from the bottomost row, and find its solution, then substitute this solution in the row above, and find its solution, and it continues until it has found all the solutions.                                                   \n",
    "<br>\n",
    "While doing this back substitution, there may be a possibility that the division is being done by zero, in which case I have made the except block for handling it.                                                                                           \n",
    "<br>\n",
    "The final output conatins the statement printed by the function(A, b) and its final solution.                                   \n",
    "<br>\n"
   ]
  },
  {
   "cell_type": "code",
   "execution_count": 17,
   "id": "395a1b63",
   "metadata": {},
   "outputs": [
    {
     "name": "stdout",
     "output_type": "stream",
     "text": [
      "A matrix =  [[ 1.00000000e+00  4.00897814e-01  8.77287766e-01  5.23285899e-01\n",
      "   4.43611940e-01  1.17620539e+00  7.64810603e-01  1.00874151e+00\n",
      "   1.01354215e+00  1.58405212e-01]\n",
      " [ 0.00000000e+00  1.00000000e+00  1.18965384e+01  9.79750519e+00\n",
      "   7.00966412e+01 -2.06629759e+01  4.77183546e+01  7.28587204e+01\n",
      "   1.04295628e+01  3.32370950e+01]\n",
      " [-0.00000000e+00 -0.00000000e+00  1.00000000e+00  7.62944659e-01\n",
      "   5.63270361e+00 -1.64571449e+00  3.87454385e+00  5.91357764e+00\n",
      "   8.00855255e-01  2.60989007e+00]\n",
      " [ 0.00000000e+00  0.00000000e+00  0.00000000e+00  1.00000000e+00\n",
      "   2.47064099e+00 -5.18085125e-01  1.94007932e+00  2.04806948e+00\n",
      "   7.12968564e-02  1.36457826e+00]\n",
      " [-0.00000000e+00 -0.00000000e+00 -0.00000000e+00 -0.00000000e+00\n",
      "   1.00000000e+00 -7.24566426e-01  5.26531247e-01  1.17099854e+00\n",
      "   2.14985226e-01  6.65989442e-01]\n",
      " [ 0.00000000e+00  0.00000000e+00  0.00000000e+00  0.00000000e+00\n",
      "   0.00000000e+00  1.00000000e+00  3.47101026e-01 -1.15445599e+00\n",
      "   1.11580834e-01 -4.24359175e-01]\n",
      " [-0.00000000e+00 -0.00000000e+00 -0.00000000e+00 -0.00000000e+00\n",
      "  -0.00000000e+00 -0.00000000e+00  1.00000000e+00 -5.82433063e-01\n",
      "   9.36648729e-01  2.79642256e-01]\n",
      " [-0.00000000e+00 -0.00000000e+00 -0.00000000e+00 -0.00000000e+00\n",
      "  -0.00000000e+00 -0.00000000e+00 -0.00000000e+00  1.00000000e+00\n",
      "   2.46348283e-01  2.29393370e-01]\n",
      " [ 0.00000000e+00  0.00000000e+00  0.00000000e+00  0.00000000e+00\n",
      "   0.00000000e+00  0.00000000e+00  0.00000000e+00  0.00000000e+00\n",
      "   1.00000000e+00  7.72943510e-01]\n",
      " [ 0.00000000e+00  0.00000000e+00  0.00000000e+00  0.00000000e+00\n",
      "   0.00000000e+00  0.00000000e+00  0.00000000e+00  0.00000000e+00\n",
      "   0.00000000e+00  1.00000000e+00]]\n",
      "\n",
      "B matrix =  [ 0.78451653 52.17270215  4.26493963  0.84514351  0.74933763 -0.20665834\n",
      " -1.53585969  0.19879786  1.23161634 15.95930189]\n",
      "\n",
      "Solutions are = \n"
     ]
    },
    {
     "data": {
      "text/plain": [
       "[4.092377243167384,\n",
       " 0.9938734834266185,\n",
       " 5.066114296710095,\n",
       " -11.891941034320075,\n",
       " -4.6894195129500895,\n",
       " 5.584905504811067,\n",
       " 3.9785576208565425,\n",
       " -0.7267033143707121,\n",
       " -11.104022473243823,\n",
       " 15.959301890665452]"
      ]
     },
     "execution_count": 17,
     "metadata": {},
     "output_type": "execute_result"
    }
   ],
   "source": [
    "import numpy as np\n",
    "def solution(A, b):\n",
    "    try:\n",
    "        if(type(function(A, b)) is tuple):\n",
    "            n = len(A)\n",
    "            sol=[0 for i in range(n)]\n",
    "            sol[n-1] = b[n-1]/A[n-1][n-1]\n",
    "            for i in range(n-2, -1, -1):\n",
    "                sum=0\n",
    "                for j in range(i+1, n):\n",
    "                    sum = sum+A[i][j]*sol[j]\n",
    "                sol[i]=(b[i]-sum)/A[i][i]\n",
    "            print(\"Solutions are = \")\n",
    "            return sol\n",
    "            \n",
    "        elif(type(function(A, b)) is Exception):\n",
    "            print(function(A, b))\n",
    "    \n",
    "    except:\n",
    "        print(\"Division by zero error\")\n",
    "        \n",
    "        \n",
    "A = np.random.rand(10, 10)\n",
    "b = np.random.rand(10)\n",
    "solution(A, b)\n",
    "# %timeit solution(A, b) \n",
    "# This timeit was ran on A = np.random.rand(10, 10), and b = np.random.rand(10) without comments as above\n",
    "# The %timeit should be ru without printing any statement above, as in the case with printing statements the time increases \n",
    "# a lot."
   ]
  },
  {
   "cell_type": "markdown",
   "id": "eda7595f",
   "metadata": {},
   "source": [
    "#### Solving using np.linalg.solve()"
   ]
  },
  {
   "cell_type": "code",
   "execution_count": 18,
   "id": "ecf3f697",
   "metadata": {},
   "outputs": [
    {
     "name": "stdout",
     "output_type": "stream",
     "text": [
      "17.5 µs ± 514 ns per loop (mean ± std. dev. of 7 runs, 100,000 loops each)\n"
     ]
    }
   ],
   "source": [
    "np.linalg.solve(A, b)\n",
    "%timeit np.linalg.solve(A, b)\n",
    "# This timeit was ran on A = np.random.rand(10, 10), and b = np.random.rand(10) commented as above"
   ]
  },
  {
   "cell_type": "markdown",
   "id": "73a641d9",
   "metadata": {},
   "source": [
    "# 3] Solving Netlist:\n",
    "<b> I have assumed that the syntax of the .netlist file follows the syntax as given in the SPICE syntax file shared in moodle. And, any of the values :  name, n1, n2,  dc/ac and value are not missing, respectively for R, I, V, L, and C. </b><br>\n",
    "<b> I have also assumed that L, C always are in AC and have a frequency associated with it. </b>\n"
   ]
  },
  {
   "cell_type": "markdown",
   "id": "be5af3aa",
   "metadata": {},
   "source": [
    "### File reading : \n",
    "The below is used to open the file, read it, and store the proper SPICE syntax format in variable 'final_circ' as a list"
   ]
  },
  {
   "cell_type": "code",
   "execution_count": 19,
   "id": "5bcd0643",
   "metadata": {},
   "outputs": [],
   "source": [
    "def file(file_name):\n",
    "    file = open(file_name, 'r') # Opening the netlist file\n",
    "\n",
    "    # Adding the string statements to circuit\n",
    "    circuit=\"\" \n",
    "    for c in file.readlines():\n",
    "        circuit=circuit+c\n",
    "\n",
    "    circuit = circuit.splitlines()\n",
    "\n",
    "    final_circ=[]\n",
    "    length = len(circuit)\n",
    "    end_index=0\n",
    "    start_index=0\n",
    "\n",
    "    # To get the index of starting and ending of circuit using '.circuit', and '.end'\n",
    "    for i in range(len(circuit)):\n",
    "        for j in circuit[i].split():\n",
    "            if(j=='.circuit'):\n",
    "                start_index = i\n",
    "                break\n",
    "            if(j=='.end'):\n",
    "                end_index = i\n",
    "                break\n",
    "\n",
    "    # Finding # for comment, and also the '.ac' to find the frequency of operation of the ciruit.\n",
    "    for i in range(len(circuit)):\n",
    "        if(i>=start_index and i<=end_index):\n",
    "            if(circuit[i].find('#')!=-1):\n",
    "                index = circuit[i].find('#')\n",
    "                final_circ.append(circuit[i][0:index].strip())\n",
    "            else:\n",
    "                final_circ.append(circuit[i].strip())\n",
    "            start_index +=1\n",
    "\n",
    "        if(circuit[i].find('.ac')!=-1):\n",
    "            if(circuit[i].find('#')!=-1):\n",
    "                index = circuit[i].find('#')\n",
    "                final_circ.append(circuit[i][0:index].strip())\n",
    "            else:\n",
    "                final_circ.append(circuit[i].strip())\n",
    "\n",
    "    # Printing the netlist with proper syntax using list\n",
    "    \n",
    "    return final_circ"
   ]
  },
  {
   "cell_type": "markdown",
   "id": "20398e66",
   "metadata": {},
   "source": [
    "### Multiple frequencies error : \n",
    "This is used to find the multiple frequency error, that might be present in netlist"
   ]
  },
  {
   "cell_type": "code",
   "execution_count": 20,
   "id": "ea4ef00e",
   "metadata": {},
   "outputs": [],
   "source": [
    "# Multiple frequencies error\n",
    "def multiple_frequencies_error(final_circ):\n",
    "    freq=[]\n",
    "    circuit_dot =0 # To find the location of '.circuit'\n",
    "    end_dot = 0 # To find the location of '.end'\n",
    "    \n",
    "    for i in range(len(final_circ)):\n",
    "        if(final_circ[i].split()[0]=='.ac'):\n",
    "            if(final_circ[i].split()[2] not in freq):\n",
    "                freq.append(final_circ[i].split()[2])\n",
    "\n",
    "        if(final_circ[i].split()[0]=='.circuit'):\n",
    "            circuit_dot=i\n",
    "\n",
    "        if(final_circ[i].split()[0]=='.end'):\n",
    "            end_dot=i\n",
    "    \n",
    "    return freq, circuit_dot, end_dot"
   ]
  },
  {
   "cell_type": "markdown",
   "id": "341d84c1",
   "metadata": {},
   "source": [
    "### Frequency of AC, when only a single frequency are given : "
   ]
  },
  {
   "cell_type": "code",
   "execution_count": 21,
   "id": "b2534cb3",
   "metadata": {},
   "outputs": [],
   "source": [
    "def frequency(freq):\n",
    "    if(len(freq)>1):\n",
    "        print(\"Multiple frequencies are given \", freq)\n",
    "        return False\n",
    "    elif(len(freq)==0):\n",
    "        print(\"DC source\")\n",
    "        return True\n",
    "    else:\n",
    "        print(\"Frequency = \", float(freq[0]))\n",
    "        return True"
   ]
  },
  {
   "cell_type": "markdown",
   "id": "f5819cb1",
   "metadata": {},
   "source": [
    "### Replacing GND with '0'"
   ]
  },
  {
   "cell_type": "code",
   "execution_count": 22,
   "id": "e344ddb2",
   "metadata": {},
   "outputs": [],
   "source": [
    "# Printing the netlist with proper formatting\n",
    "def replace_GND(final_circ):\n",
    "    final=\"\"\n",
    "    for i in range(len(final_circ)):\n",
    "        final += final_circ[i].replace('GND', '0')+\"\\n\"\n",
    "#     print(final)\n",
    "    return final"
   ]
  },
  {
   "cell_type": "markdown",
   "id": "2800003d",
   "metadata": {},
   "source": [
    "### Counting independent sources, and doing proper formatting of the netlist : \n",
    "a] To count the number of independent sources.                                                               \n",
    "b] To replace the nodes like n1, n2, .... with digits like '1', '2', ... Because the value of nodes should be a string              containing only digits."
   ]
  },
  {
   "cell_type": "code",
   "execution_count": 23,
   "id": "7b21d189",
   "metadata": {},
   "outputs": [],
   "source": [
    "def count_indpnt(final, circuit_dot, end_dot):\n",
    "    nodes = []\n",
    "    indpnt = 0 \n",
    "    final_circuit_copy = final.splitlines()\n",
    "    final_circuit=[]\n",
    "\n",
    "    # To find the number of independent sources, and the total number of nodes in the circuit, including the Ground ('0')\n",
    "    for i in range(len(final_circuit_copy)):\n",
    "        final_split = final_circuit_copy[i].split()\n",
    "        final_circuit.append(final_split)\n",
    "        if(final_split[0][0]=='V'):\n",
    "            indpnt +=1\n",
    "\n",
    "        if(i>circuit_dot and i<end_dot):\n",
    "            if(final_split[1] not in nodes):\n",
    "                nodes.append(final_split[1])\n",
    "            if(final_split[2] not in nodes):\n",
    "                nodes.append(final_split[2])\n",
    "\n",
    "\n",
    "\n",
    "    # All the values of nodes should be string containing only digits\n",
    "    nodes_copy = nodes\n",
    "    final_circuit_copy = final_circuit\n",
    "\n",
    "    for i in range(circuit_dot, end_dot):\n",
    "        for j in range(len(final_circuit_copy[i])):\n",
    "            if(j==1 or j==2):\n",
    "                s=\"\"\n",
    "                for k in final_circuit_copy[i][j]:\n",
    "                    if(k.isdigit()==True):\n",
    "                        s=s+str(int(k))\n",
    "                final_circuit[i][j]=s\n",
    "\n",
    "\n",
    "    for i in range(len(nodes_copy)):\n",
    "        s =\"\"\n",
    "        for j in nodes_copy[i]:\n",
    "            if(j.isdigit()==True):\n",
    "                s=s+str(int(j))\n",
    "        nodes[i]=s\n",
    "\n",
    "\n",
    "    print(\"Total number of nodes (excluding ground) = \", len(nodes)-1)\n",
    "    print(\"Total number of independent sources = \", indpnt)\n",
    "    \n",
    "    return final_circuit, nodes, indpnt"
   ]
  },
  {
   "cell_type": "markdown",
   "id": "0d4d5780",
   "metadata": {},
   "source": [
    "## Method = Modified nodal analysis (MNA)\n",
    "\n",
    "I have used the method of modified nodal analysis, which is used to determine the nodal voltage of each voltage, and the current passing through independent voltage sources.\n",
    "\n",
    "We will apply this method to a circuit with n nodes, and m independent voltage sources. This is also applicable to independent current sources. <br>\n",
    "\n",
    "To apply this : <br>\n",
    "1] We will select a reference node, usually ground (node 0), and write the remaining node voltages(n-1) with respect to this reference node. <br>\n",
    "2] I have used the convention that : <br> \n",
    "&emsp;    a] current leaving the node is taken as positive, and current entering the node is negative,<br> \n",
    "&emsp;    b] the current flows from the positive node to the negative node.<br>\n",
    "&emsp;    c] The value of voltage source is specified considering the first node to be positive terminal.\n",
    "<br>\n",
    "3] Apply Kirchoff's current law to each node.\n",
    "<br>\n",
    "4] Write an equation for the voltage of each of the independent voltage sources.\n",
    "<br>\n",
    "5] Solve the system of (n-1) unknowns.\n",
    "<br>"
   ]
  },
  {
   "cell_type": "markdown",
   "id": "0873b66d",
   "metadata": {},
   "source": [
    "Let the matrix equation being formed by MNA be: \n",
    "<center> <b>GV = I</b> </center>\n",
    "<br>\n",
    "Let n = number of nodes(with respect to GND (0)), and m = number of independent voltage sourcces.\n",
    "<br><br>\n",
    "1]The G matrix will be of dimension (n+m)x(n+m): <br>\n",
    "&emsp; a] The upper left (nxn) part of matrix G : <br>\n",
    "&emsp; &emsp; i] is determined by the interconnections of the passive elements, <br>\n",
    "&emsp; &emsp; ii] the diagonal of this matrix consists of sum of conductance(1 over resistance or impedance) of element connected to corresponding node, <br>\n",
    "&emsp; &emsp; iii] the off diagonal elements of the matrix consists of the sum of negative conductance of element connected to the pair of corresponding node\n",
    "<br><br>\n",
    "\n",
    "&emsp; b] The upper right (nxm) part of matrix G : <br>\n",
    "&emsp; &emsp; i] It consists of values 0, -1, and 1, <br>\n",
    "&emsp; &emsp; ii] The values can be understood by the direction of current entering or leaving the node, according to the convention defined. <br>\n",
    "&emsp; &emsp;    The value 0 is written when there is no independent voltage source connected.<br>\n",
    "&emsp; &emsp;    The value 1 is written when there is voltage source connected, and the current is leaving the node. Similarly, for -1 the current is entering the node.\n",
    "<br><br>\n",
    "\n",
    "&emsp; c] The lower left (mxn) part of matrix G : <br>\n",
    "&emsp; &emsp; i] It consists of values 0, 1, -1. <br>\n",
    "&emsp; &emsp; ii] The value tells us how the terminal of the corresponding voltage is connected to node.<br>\n",
    "&emsp; &emsp; If no voltage is connected between the nodes, it is 0. <br>\n",
    "&emsp; &emsp; If the positive terminal is connected to that node, then it is 1. Similarly, for negative terminal connected to that node it is -1.\n",
    "<br><br>\n",
    "\n",
    "&emsp; d] The lower right (mxm) part of matrix G: <br>\n",
    "&emsp; &emsp; This matrix is used to write for the dependent sources, but as we are only considering independent sources all its element will be 0.<br>\n",
    "<br><br>\n",
    "\n",
    "2] The matrix V will be of dimension (n+m)x1 : <br>\n",
    "&emsp; &emsp; It contains the nodal voltages, and the current through independent voltage sources <br>\n",
    "&emsp; &emsp; i] The top n elements are the nodal voltages,<br>\n",
    "&emsp; &emsp; ii] The bottom m elements contains the current passing through the independent voltage sources<br>\n",
    "<br><br>\n",
    "\n",
    "3] The matrix I will be of dimension (n+m)x1 : <br>\n",
    "&emsp; &emsp; This matrix holds the value of known quantities : independent voltage and current sources, <br>\n",
    "&emsp; &emsp; The top n elements are either zero or the sum and difference of independent current soures in the circuit. <br>\n",
    "&emsp; &emsp; The bottom m elements represent the m independent voltage sources in the circuit, entered according to the sign."
   ]
  },
  {
   "cell_type": "markdown",
   "id": "9a1459d3",
   "metadata": {},
   "source": [
    "### Generating G matrix (valid for both AC and DC) :"
   ]
  },
  {
   "cell_type": "code",
   "execution_count": 24,
   "id": "09f87789",
   "metadata": {},
   "outputs": [],
   "source": [
    "def G_matrix(final_circuit, nodes, indpnt, circuit_dot, end_dot, freq):\n",
    "    # To use the complex functions, i have used the datatype '_complex'\n",
    "    # G will be a complex matrix\n",
    "    G = np.zeros((len(nodes)-1+indpnt, len(nodes)-1+indpnt), dtype = 'complex_')\n",
    "    mm = 0\n",
    "    vv = 0\n",
    "    for i in range(circuit_dot+1, end_dot):\n",
    "        final_split = final_circuit[i]\n",
    "        node1 = int(final_split[1])\n",
    "        node2 = int(final_split[2])\n",
    "        symbol = final_split[0][0]\n",
    "\n",
    "# Upper left (nxn) part of G matrix : \n",
    "#         I have taken the current leaving node as positive, and current entering node as negative\n",
    "        if(symbol.upper() == 'R'):\n",
    "            value = float(final_split[-1])\n",
    "            if (node1!=0 and node2!=0):\n",
    "                G[node1-1][node1-1] +=1/value\n",
    "                G[node2-1][node2-1] +=1/value\n",
    "                G[node1-1][node2-1] -=1/value\n",
    "                G[node2-1][node1-1] -=1/value\n",
    "                \n",
    "            if(node1==0 and node2!=0):\n",
    "                G[node2-1][node2-1] +=1/value\n",
    "            \n",
    "            if(node1!=0 and node2==0):\n",
    "                G[node1-1][node1-1] +=1/value\n",
    "        \n",
    "        \n",
    "#         Value of impedance of an inductor = complex of w*L (w=2*PI*freq)\n",
    "        if(symbol.upper() == 'L'):\n",
    "            val = float(final_split[-1])*float(freq[0])*2*math.pi\n",
    "            value =  complex(0, val) # It convert the value to complex numbers\n",
    "            if (node1!=0 and node2!=0):\n",
    "                G[node1-1][node1-1] +=1/value\n",
    "                G[node2-1][node2-1] +=1/value\n",
    "                G[node1-1][node2-1] -=1/value\n",
    "                G[node2-1][node1-1] -=1/value\n",
    "                \n",
    "            if(node1==0 and node2!=0):\n",
    "                G[node2-1][node2-1] +=1/value\n",
    "            \n",
    "            if(node1!=0 and node2==0):\n",
    "                G[node1-1][node1-1] +=1/value\n",
    "           \n",
    "        \n",
    "#         Value of impedance of conductor = complex of (1/w*C), (w=2*PI*freq)\n",
    "        if(symbol.upper() == 'C'):\n",
    "            val = float(final_split[-1])*float(freq[0])*2*math.pi\n",
    "            value =  complex(0, val) # It convert the value to complex numbers\n",
    "            if (node1!=0 and node2!=0):\n",
    "                G[node1-1][node1-1] +=value\n",
    "                G[node2-1][node2-1] +=value\n",
    "                G[node1-1][node2-1] -=value\n",
    "                G[node2-1][node1-1] -=value\n",
    "                \n",
    "            if(node1==0 and node2!=0):\n",
    "                G[node2-1][node2-1] +=value\n",
    "            \n",
    "            if(node1!=0 and node2==0):\n",
    "                G[node1-1][node1-1] +=value\n",
    "\n",
    "                \n",
    "# Upper right (nxm) part of G matrix :\n",
    "#         Node1 is positive, node2 is negative of the voltage source\n",
    "        if(symbol.upper() == 'V'):\n",
    "            if(node1!=0 and node2!=0):\n",
    "                G[node2-1][len(nodes)-1+mm] = -1\n",
    "                G[node1-1][len(nodes)-1+mm] = 1\n",
    "            \n",
    "            if(node1==0 and node2!=0):\n",
    "                G[node2-1][len(nodes)-1+mm] = -1\n",
    "                \n",
    "            if(node1!=0 and node2==0):\n",
    "                G[node1-1][len(nodes)-1+mm] = 1\n",
    "            mm=mm+1\n",
    "        \n",
    "        \n",
    "# Bottom left(mxn) part of G matrix :\n",
    "#         I have assumed that the current flows from the positive to the negative terminal of the voltage\n",
    "#         I have taken node1 as positive and node2 as negative\n",
    "        if(symbol.upper() == 'V'):\n",
    "            if(node1!=0 and node2!=0):\n",
    "                G[len(nodes)-1+vv][node1-1] = 1\n",
    "                G[len(nodes)-1+vv][node2-1] = -1\n",
    "            \n",
    "            if(node1==0 and node2!=0):\n",
    "                G[len(nodes)-1+vv][node2-1] = -1\n",
    "                \n",
    "            if(node1!=0 and node2==0):\n",
    "                G[len(nodes)-1+vv][node1-1] = 1\n",
    "            vv=vv+1\n",
    "            \n",
    "# Bottom right (mxm) part of G matrix = 0, as mentioned in the explanation above   \n",
    "    return G\n",
    "            \n",
    "# print(G)\n",
    "# G = G.tolist()\n",
    "# print(type(G))"
   ]
  },
  {
   "cell_type": "markdown",
   "id": "e0caa407",
   "metadata": {},
   "source": [
    "### Generating I matrix (valid for both AC and DC) :"
   ]
  },
  {
   "cell_type": "code",
   "execution_count": 25,
   "id": "712f4d75",
   "metadata": {},
   "outputs": [],
   "source": [
    "# Forming the I matrix\n",
    "def I_matrix(final_circuit, nodes, indpnt, circuit_dot, end_dot, freq):\n",
    "    I = np.zeros((len(nodes)-1+indpnt,1), dtype = 'complex_')\n",
    "    ii=0\n",
    "    vv=0\n",
    "    for i in range(circuit_dot+1, end_dot):\n",
    "        final_split = final_circuit[i]\n",
    "        node1 = int(final_split[1])\n",
    "        node2 = int(final_split[2])\n",
    "        \n",
    "        symbol = final_split[0][0]\n",
    "        \n",
    "        \n",
    "# Top (nx1) part of I matrix :        \n",
    "        if(symbol.upper()=='I'):\n",
    "            ac_or_dc = final_split[3]\n",
    "            if(ac_or_dc.lower() == 'dc'): # If the independent current source is 'dc'\n",
    "                value = float(final_split[-1])\n",
    "                I[ii][0] = value\n",
    "                \n",
    "            if(ac_or_dc.lower() == 'ac'): # If the independent current source is 'ac'\n",
    "                magnitude = float(final_split[4])\n",
    "                phase = float(final_split[-1])\n",
    "                real = magnitude*math.cos(phase) \n",
    "                imaginary = magnitude*math.sin(phase)\n",
    "                value = complex(real, imaginary)\n",
    "                I[ii][0] = value\n",
    "            ii=ii+1\n",
    "\n",
    "            \n",
    "# Bottom (mx1) part of I matrix :   \n",
    "        if(symbol.upper()=='V'):\n",
    "            ac_or_dc = final_split[3]\n",
    "            if(ac_or_dc.lower() == 'dc'): # If the independent voltage source is 'dc'\n",
    "                value = float(final_split[-1])\n",
    "                I[len(nodes)-1+vv][0] = value\n",
    "                \n",
    "            if(ac_or_dc.lower() == 'ac'): # If the independent voltage source is 'ac'\n",
    "                magnitude = float(final_split[4])\n",
    "                phase = float(final_split[-1])\n",
    "                real = magnitude*math.cos(phase)\n",
    "                imaginary = magnitude*math.sin(phase)\n",
    "                value = complex(real, imaginary)\n",
    "                I[len(nodes)-1+vv][0] = value\n",
    "            vv=vv+1\n",
    "        \n",
    "    return I\n",
    "\n",
    "# print(I)"
   ]
  },
  {
   "cell_type": "markdown",
   "id": "f3c9021b",
   "metadata": {},
   "source": [
    "### Solution "
   ]
  },
  {
   "cell_type": "code",
   "execution_count": 26,
   "id": "d4012ace",
   "metadata": {},
   "outputs": [],
   "source": [
    "def netlist_solution(file_name):\n",
    "    final_circ = file(file_name)\n",
    "    freq, circuit_dot, end_dot = multiple_frequencies_error(final_circ)\n",
    "    single_or_multiple = frequency(freq)\n",
    "    final = replace_GND(final_circ)\n",
    "    final_circuit, nodes, indpnt = count_indpnt(final, circuit_dot, end_dot)\n",
    "    \n",
    "    if(single_or_multiple == True):\n",
    "#         I made the variables global, so that it can directly be solved in np.linalg.solve(G, I) below\n",
    "        global G # To make the vairable G, global\n",
    "        global I # To make the vairable I, global\n",
    "        G = G_matrix(final_circuit, nodes, indpnt, circuit_dot, end_dot, freq)\n",
    "        I = I_matrix(final_circuit, nodes, indpnt, circuit_dot, end_dot, freq) \n",
    "        print(G)\n",
    "        print(I)\n",
    "\n",
    "        sol = solution(G, I)\n",
    "        for s in sol:\n",
    "            print(s)\n",
    "    \n",
    "    else:\n",
    "        print(\"Multiple frequencies\")"
   ]
  },
  {
   "cell_type": "markdown",
   "id": "da898e8d",
   "metadata": {},
   "source": [
    "To run the below statement on various files of .netlist, the .netlist file should be in the same folder as this jupyter notebook."
   ]
  },
  {
   "cell_type": "code",
   "execution_count": 28,
   "id": "bd4a13d2",
   "metadata": {},
   "outputs": [
    {
     "name": "stdout",
     "output_type": "stream",
     "text": [
      "Frequency =  1000.0\n",
      "Total number of nodes (excluding ground) =  3\n",
      "Total number of independent sources =  1\n",
      "[[ 0.   +6124.03036409j  0.   -6283.18530718j  0.      +0.j\n",
      "   0.      +0.j        ]\n",
      " [ 0.   -6283.18530718j  0.001+6283.18530718j -0.001   +0.j\n",
      "   0.      +0.j        ]\n",
      " [ 0.      +0.j         -0.001   +0.j          0.001   +0.j\n",
      "  -1.      +0.j        ]\n",
      " [ 0.      +0.j          0.      +0.j         -1.      +0.j\n",
      "   0.      +0.j        ]]\n",
      "[[0.+0.j]\n",
      " [0.+0.j]\n",
      " [0.+0.j]\n",
      " [5.+0.j]]\n",
      "A matrix =  [[ 1.00000000e+00+0.00000000e+00j -1.02598859e+00-0.00000000e+00j\n",
      "   0.00000000e+00+0.00000000e+00j  0.00000000e+00+0.00000000e+00j]\n",
      " [-0.00000000e+00+0.00000000e+00j  1.00000000e+00-0.00000000e+00j\n",
      "  -3.75037479e-11-6.12403036e-06j -0.00000000e+00+0.00000000e+00j]\n",
      " [ 0.00000000e+00+0.00000000e+00j  0.00000000e+00+0.00000000e+00j\n",
      "   1.00000000e+00+0.00000000e+00j -1.00000000e+03-6.12403036e-03j]\n",
      " [-0.00000000e+00-0.00000000e+00j -0.00000000e+00-0.00000000e+00j\n",
      "  -0.00000000e+00-0.00000000e+00j  1.00000000e+00-0.00000000e+00j]]\n",
      "\n",
      "B matrix =  [[ 0.   +0.00000000e+00j]\n",
      " [-0.   +0.00000000e+00j]\n",
      " [ 0.   +0.00000000e+00j]\n",
      " [-0.005+3.06201518e-08j]]\n",
      "\n",
      "Solutions are = \n",
      "[-1.92392088e-10-3.14159265e-05j]\n",
      "[-1.87518739e-10-3.06201518e-05j]\n",
      "[-5.+0.j]\n",
      "[-0.005+3.06201518e-08j]\n"
     ]
    }
   ],
   "source": [
    "netlist_solution(\"ckt6.netlist\")\n",
    "# %timeit netlist_solution(\"ckt6.netlist\")\n",
    "# The %timeit function must be used without printing of any statement by netlist_solution(), as the time increases a lot."
   ]
  },
  {
   "cell_type": "code",
   "execution_count": 29,
   "id": "b250fed4",
   "metadata": {},
   "outputs": [
    {
     "data": {
      "text/plain": [
       "array([[-1.92392088e-10-3.14159265e-05j],\n",
       "       [-1.87518739e-10-3.06201518e-05j],\n",
       "       [-5.00000000e+00+0.00000000e+00j],\n",
       "       [-5.00000000e-03+3.06201518e-08j]])"
      ]
     },
     "execution_count": 29,
     "metadata": {},
     "output_type": "execute_result"
    }
   ],
   "source": [
    "np.linalg.solve(G, I)\n",
    "# %timeit np.linalg.solve(G, I)"
   ]
  },
  {
   "cell_type": "code",
   "execution_count": 30,
   "id": "b5c62903",
   "metadata": {},
   "outputs": [],
   "source": [
    "#################COMMENTS for NETLIST (print statements to be removed while using %timeit)####################\n",
    "# def frequency(freq):\n",
    "#         print(\"Multiple frequencies are given \", freq)\n",
    "#         print(\"DC source\")\n",
    "#         print(\"Frequency = \", float(freq[0]))\n",
    "# def count_indpnt(final, circuit_dot, end_dot):\n",
    "#     print(\"Total number of nodes (excluding ground) = \", len(nodes)-1)\n",
    "#     print(\"Total number of independent sources = \", indpnt)\n",
    "    \n",
    "# In function(A, b)\n",
    "#         print(\"A matrix = \", A, end=\"\\n\\n\")\n",
    "#         print(\"B matrix = \", b, end=\"\\n\\n\")\n",
    "\n",
    "# In solution(A, b)\n",
    "#             print(\"Solutions are = \")"
   ]
  }
 ],
 "metadata": {
  "kernelspec": {
   "display_name": "Python 3 (ipykernel)",
   "language": "python",
   "name": "python3"
  },
  "language_info": {
   "codemirror_mode": {
    "name": "ipython",
    "version": 3
   },
   "file_extension": ".py",
   "mimetype": "text/x-python",
   "name": "python",
   "nbconvert_exporter": "python",
   "pygments_lexer": "ipython3",
   "version": "3.9.2"
  },
  "vscode": {
   "interpreter": {
    "hash": "135c9c029983d30fe2c25215b219c39403965bc9bf9257a46b5d1e1e22d97d61"
   }
  }
 },
 "nbformat": 4,
 "nbformat_minor": 5
}
