{
 "cells": [
  {
   "cell_type": "markdown",
   "id": "0adc2ae8",
   "metadata": {},
   "source": [
    "## Libraries :\n"
   ]
  },
  {
   "cell_type": "code",
   "execution_count": 7,
   "id": "1257a22a",
   "metadata": {},
   "outputs": [],
   "source": [
    "# Magic command below to enable interactivity in the JupyterLab interface \n",
    "%matplotlib ipympl \n",
    "# Some basic imports that are useful \n",
    "import numpy as np \n",
    "import matplotlib.pyplot as plt \n",
    "from matplotlib.animation import FuncAnimation"
   ]
  },
  {
   "cell_type": "markdown",
   "id": "7f2216a2",
   "metadata": {},
   "source": [
    "## init () and update ():\n",
    "This is used to initialize the plot, and then update the plot during the transformation. "
   ]
  },
  {
   "cell_type": "code",
   "execution_count": 8,
   "id": "05951082",
   "metadata": {},
   "outputs": [
    {
     "data": {
      "application/vnd.jupyter.widget-view+json": {
       "model_id": "37b374bdaef6487fb79aadc23b4d4f5f",
       "version_major": 2,
       "version_minor": 0
      },
      "image/png": "[encoded data removed]",
      "text/html": [
       "\n",
       "            <div style=\"display: inline-block;\">\n",
       "                <div class=\"jupyter-widgets widget-label\" style=\"text-align: center;\">\n",
       "                    Figure\n",
       "                </div>\n",
       "                <img src='data:image/png;base64,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' width=640.0/>\n",
       "            </div>\n",
       "        "
      ],
      "text/plain": [
       "Canvas(toolbar=Toolbar(toolitems=[('Home', 'Reset original view', 'home', 'home'), ('Back', 'Back to previous …"
      ]
     },
     "metadata": {},
     "output_type": "display_data"
    }
   ],
   "source": [
    "fig, ax = plt.subplots() \n",
    "xdata, ydata = [], [] \n",
    "ln, = ax.plot([], [], 'red')\n",
    "total_data = []\n",
    "\n",
    "def init(): \n",
    "    ax.set_xlim(-1.2, 1.2) \n",
    "    ax.set_ylim(-1.2, 1.2) \n",
    "    \n",
    "    return ln, \n",
    "\n",
    "def update(frame): \n",
    "    count_1 = int(frame)    \n",
    "\n",
    "    if(int(frame) >= 5): # To get the reverse animation of figures, i.e from 8 to 7 to 6 to 5 to 4 to 3\n",
    "        count_2 = 5 - int(frame) \n",
    "        xc, yc, xs, ys = polygon_coordinates(count_2 + 8, count_2 + 7,t)\n",
    "        xdata, ydata = morph(xs, ys, xc, yc, frame - count_1)\n",
    "        total_data.append(xdata)\n",
    "        total_data.append(ydata)\n",
    "        ln.set_data(total_data[-2], total_data[-1])\n",
    "        total_data.clear()\n",
    "        return ln, \n",
    "    \n",
    "  \n",
    "    # To get the forward animation of figures, i.e from 3 to 4 to 5 to 6 to 7 to 8\n",
    "    elif(frame >= count_1 and frame <= (count_1 + 1)): \n",
    "        xc, yc, xs, ys = polygon_coordinates(count_1 + 3, count_1 + 4, t)\n",
    "        xdata, ydata = morph(xs, ys, xc, yc, frame - count_1)\n",
    "        total_data.append(xdata)\n",
    "        total_data.append(ydata)\n",
    "        ln.set_data(total_data[-2], total_data[-1])\n",
    "        total_data.clear()\n",
    "        return ln, "
   ]
  },
  {
   "cell_type": "markdown",
   "id": "6977010f",
   "metadata": {},
   "source": [
    "## Mapping function ():\n",
    "To map the vertex of a polygon to the coming polygon. <br><br>\n",
    "To understand the below function, I have taken the example of conversion from triangle (3) to square (4).<br>\n",
    "The same is valid for the conversions of other polygons also.<br>\n",
    "Since in the animation, vertices are being split, each vertex of the triangle gets mapped to two of the vertices of square.<br>\n",
    "Considering the x coordinates, we can say that :(I am moving in the anticlockwise direction, and the starting coordinate(1,0))\n",
    "gets repeated<br>\n",
    "&emsp; a] 1 gets mapped to 1<br>\n",
    "&emsp; b] -0.5 gets mapped to 0, and -1 <br>\n",
    "&emsp; c] -0.5 gets mapped to -1, and 0 (The other vertex of triangle with x coordinate as -0.5)<br>\n",
    "&emsp; d] 1 gets mapped to 1<br>\n",
    "The y-coordinates also gets respectively mapped.<br>\n",
    "\n",
    "<br>\n",
    "The variables x_before, y_before, x_after, y_after are calculated using this mapping."
   ]
  },
  {
   "cell_type": "code",
   "execution_count": 9,
   "id": "a9a117cb",
   "metadata": {},
   "outputs": [],
   "source": [
    "# m = first polygon, with number of sides = m\n",
    "# n = second polygon, with number of sides = n\n",
    "# x_before, y_before = to map with x_after, y_after, with the help of  m_x, m_y, n_x, n_y.\n",
    "# General case is for m < n. The 'check' variable is used to check when m > n, and make the respective changes\n",
    "\n",
    "def mapping(m, n, m_x, m_y, n_x, n_y, t, check):\n",
    "    total = int(len(t)/m)\n",
    "    x_before = []\n",
    "    y_before = []\n",
    "    x_after = []\n",
    "    y_after = []\n",
    "    for i in range(0, len(m_x), 2):\n",
    "        x_before.extend(np.linspace(m_x[i], m_x[i+1], total))\n",
    "        y_before.extend(np.linspace(m_y[i], m_y[i+1], total))\n",
    "        x_after.extend(np.linspace(n_x[i], n_x[i+1], total))\n",
    "        y_after.extend(np.linspace(n_y[i], n_y[i+1], total))\n",
    "        \n",
    "    \n",
    "    x_before = np.array(x_before)\n",
    "    x_after = np.array(x_after)\n",
    "    y_before = np.array(y_before)\n",
    "    y_after = np.array(y_after)\n",
    "    \n",
    "    if(check == 1): \n",
    "# Here the values of x_before and x_after, and y_before and y_after gets interchanged\n",
    "# This is done when m < n\n",
    "        d_x_before = x_before\n",
    "        d_y_before = y_before\n",
    "        x_before = x_after\n",
    "        y_before = y_after\n",
    "        x_after = d_x_before\n",
    "        y_after = d_y_before\n",
    "    else:\n",
    "        pass\n",
    "    return x_before, y_before, x_after, y_after"
   ]
  },
  {
   "cell_type": "markdown",
   "id": "5d2076a3",
   "metadata": {},
   "source": [
    "## point_split() :\n",
    "It is used to find proper splitting of the coordinates that will be used by the mapping function above."
   ]
  },
  {
   "cell_type": "code",
   "execution_count": 10,
   "id": "8827793c",
   "metadata": {},
   "outputs": [],
   "source": [
    "def point_split(m, n, m_x_coord, m_y_coord, n_x_coord, n_y_coord, t):\n",
    "    if(len(m_x_coord) > len(n_x_coord)): # To get the value of 'check', depending on whether m<n or m>n\n",
    "        check = 1 \n",
    "        dupli_x = n_x_coord\n",
    "        n_x_coord = m_x_coord\n",
    "        m_x_coord = dupli_x\n",
    "        dupli_y = n_y_coord\n",
    "        n_y_coord = m_y_coord\n",
    "        m_y_coord = dupli_y\n",
    "    \n",
    "    else:\n",
    "        check = 0 \n",
    "\n",
    "#  m_x, m_y, n_x, n_y are useful for mapping in the above function\n",
    "# I have updated the values in m_x, m_y, n_x, and n_y in the way they will be mapped\n",
    "    m_x = []\n",
    "    m_y = []\n",
    "    n_x = []\n",
    "    n_y = []\n",
    "    \n",
    "    m_x.append(1)\n",
    "    m_y.append(0)\n",
    "    \n",
    "    for i in range(1, len(m_x_coord)):\n",
    "        m_x.append(m_x_coord[i])\n",
    "        m_x.append(m_x_coord[i])\n",
    "        m_y.append(m_y_coord[i])\n",
    "        m_y.append(m_y_coord[i])\n",
    "        \n",
    "    m_x.append(1)\n",
    "    m_y.append(0)\n",
    "    \n",
    "    for i in range(len(n_x_coord)):\n",
    "        n_x.append(n_x_coord[i])\n",
    "        n_y.append(n_y_coord[i])\n",
    "        \n",
    "        if(i>=2 and i<=len(n_x_coord)-2):\n",
    "            n_x.append(n_x_coord[i])\n",
    "            n_y.append(n_y_coord[i])\n",
    "    n_x.append(1)\n",
    "    n_y.append(0)\n",
    "    \n",
    "\n",
    "#     print('mx coord ', m_x_coord)\n",
    "#     print('nx coord ', n_x_coord)\n",
    "#     print('mx ', m_x)\n",
    "#     print('nx ', n_x)\n",
    "#     print('my ', m_y)\n",
    "#     print('ny ', n_y)\n",
    "    \n",
    "    return mapping(m, n, m_x, m_y, n_x, n_y, t, check)"
   ]
  },
  {
   "cell_type": "markdown",
   "id": "eef0194e",
   "metadata": {},
   "source": [
    "## polygon_coordinates () :\n",
    "This function finds the x and y coordinates of both the polygon that will be used during a particular transformation"
   ]
  },
  {
   "cell_type": "code",
   "execution_count": 11,
   "id": "9ef29093",
   "metadata": {},
   "outputs": [],
   "source": [
    "# m_x_coord, m_y_coord - list containing all the x and y coordinate of 1st polygon\n",
    "# n_x_coord, n_y_coord - list containing all the x and y coordinate of 2nd polygon\n",
    "def polygon_coordinates(m, n, t):\n",
    "    angle_m = 2 * np.pi/m\n",
    "    angle_n = 2 * np.pi/n\n",
    "    \n",
    "    m_x_coord = []\n",
    "    m_y_coord = []\n",
    "    n_x_coord = []\n",
    "    n_y_coord = []\n",
    "    \n",
    "    for i in range(m):\n",
    "        m_x_coord.append(np.cos(angle_m * i))\n",
    "        m_y_coord.append(np.sin(angle_m * i))\n",
    "    \n",
    "    for i in range(n):\n",
    "        n_x_coord.append(np.cos(angle_n * i))\n",
    "        n_y_coord.append(np.sin(angle_n * i))\n",
    "        \n",
    "    return point_split(m, n, m_x_coord, m_y_coord, n_x_coord, n_y_coord, t)"
   ]
  },
  {
   "cell_type": "markdown",
   "id": "0fa21d53",
   "metadata": {},
   "source": [
    "## morph ():\n",
    "This is used in morphing the polygon from one type to another"
   ]
  },
  {
   "cell_type": "code",
   "execution_count": 12,
   "id": "8424af38",
   "metadata": {},
   "outputs": [
    {
     "data": {
      "application/vnd.jupyter.widget-view+json": {
       "model_id": "37b374bdaef6487fb79aadc23b4d4f5f",
       "version_major": 2,
       "version_minor": 0
      },
      "image/png": "[encoded data removed]",
      "text/html": [
       "\n",
       "            <div style=\"display: inline-block;\">\n",
       "                <div class=\"jupyter-widgets widget-label\" style=\"text-align: center;\">\n",
       "                    Figure\n",
       "                </div>\n",
       "                <img src='data:image/png;base64,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' width=640.0/>\n",
       "            </div>\n",
       "        "
      ],
      "text/plain": [
       "Canvas(toolbar=Toolbar(toolitems=[('Home', 'Reset original view', 'home', 'home'), ('Back', 'Back to previous …"
      ]
     },
     "metadata": {},
     "output_type": "display_data"
    }
   ],
   "source": [
    "def morph(x1, y1, x2, y2, alpha): # The morphing function is the same as the one used in week 5 presentation\n",
    "    xm = alpha * x1 + (1-alpha) * x2 \n",
    "    ym = alpha * y1 + (1-alpha) * y2 \n",
    "    return xm, ym \n",
    "\n",
    "t = np.linspace(0, 2 * np.pi, 840) # Total points should be the lcm of 3, 4, 5, 6, 7, 8\n",
    "if len(t) % 4 != 0: \n",
    "    raise BaseException(\"Number of points should be multiple of 3, 4, 5, 6, 7, 8 \")\n",
    "    \n",
    "\n",
    "# The forward and reversed transformation done in the update function dependent on the value of frames\n",
    "# The total number of transformations are 10, first 5 are the forward one and the other 5 are the reversed one\n",
    "\n",
    "# The value of frames and interval can be changed as per need to alter the speed of transformation.\n",
    "ani = FuncAnimation(fig, update, frames=np.linspace(0, 10, 1000), init_func = init, blit=True, interval=10,repeat=True)\n",
    "plt.show()"
   ]
  },
  {
   "cell_type": "code",
   "execution_count": null,
   "id": "dd3f8ea2",
   "metadata": {},
   "outputs": [],
   "source": []
  }
 ],
 "metadata": {
  "kernelspec": {
   "display_name": "Python 3 (ipykernel)",
   "language": "python",
   "name": "python3"
  },
  "language_info": {
   "codemirror_mode": {
    "name": "ipython",
    "version": 3
   },
   "file_extension": ".py",
   "mimetype": "text/x-python",
   "name": "python",
   "nbconvert_exporter": "python",
   "pygments_lexer": "ipython3",
   "version": "3.9.12"
  }
 },
 "nbformat": 4,
 "nbformat_minor": 5
}
