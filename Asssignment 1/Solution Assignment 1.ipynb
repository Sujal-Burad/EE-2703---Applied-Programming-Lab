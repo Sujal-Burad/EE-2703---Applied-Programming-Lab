{
 "cells": [
  {
   "cell_type": "markdown",
   "id": "47576f05-90e1-4c8b-b75b-13ebffe95171",
   "metadata": {},
   "source": [
    "# Basic Data Types\n",
    "\n",
    "Here we have a series of small problems involving various basic data types in Python.  You are required to complete the code where required, and give *brief* explanations of your answers.  Remember that the documentation and explanation is as important as the answer.\n",
    "\n",
    "For each of the following cells, first execute them, and then give a brief explanation of why the answer comes out to be the way it does.  If there is an error during execution of the cell, explain how you fixed it.  **Add a new cell of type Markdown with the explanation** after the corresponding cell.  If you are using plain Python, add suitable comments after each line and explain this in the documentation (clearly you would be better off using Notebooks here)."
   ]
  },
  {
   "cell_type": "markdown",
   "id": "90d271f4",
   "metadata": {},
   "source": [
    "## Numerical types"
   ]
  },
  {
   "cell_type": "code",
   "execution_count": 1,
   "id": "1e2d2e6e",
   "metadata": {},
   "outputs": [
    {
     "name": "stdout",
     "output_type": "stream",
     "text": [
      "2.4\n"
     ]
    }
   ],
   "source": [
    "print(12 / 5)\n",
    "# This statement prints out the division of two numbers 12, 5. '/' does the division operation."
   ]
  },
  {
   "cell_type": "code",
   "execution_count": 2,
   "id": "1b587eb7",
   "metadata": {},
   "outputs": [
    {
     "name": "stdout",
     "output_type": "stream",
     "text": [
      "2\n"
     ]
    }
   ],
   "source": [
    "print(12 // 5)\n",
    "# This statement prints out the remainder when 12 is divided by 5. '//' is used to provide the remainder when one number \n",
    "# is divided by other."
   ]
  },
  {
   "cell_type": "code",
   "execution_count": 3,
   "id": "97a6c535",
   "metadata": {},
   "outputs": [
    {
     "name": "stdout",
     "output_type": "stream",
     "text": [
      "10 10 1.0\n"
     ]
    }
   ],
   "source": [
    "a=b=10\n",
    "print(a,b,a/b)\n",
    "# This prints out a, b, and when a is divided by b."
   ]
  },
  {
   "cell_type": "markdown",
   "id": "af329d1c",
   "metadata": {},
   "source": [
    "## Strings and related operations"
   ]
  },
  {
   "cell_type": "code",
   "execution_count": 4,
   "id": "ba913542",
   "metadata": {},
   "outputs": [
    {
     "name": "stdout",
     "output_type": "stream",
     "text": [
      "Hello \n"
     ]
    }
   ],
   "source": [
    "a = \"Hello \"\n",
    "print(a)\n",
    "# It prints out the string a."
   ]
  },
  {
   "cell_type": "code",
   "execution_count": 5,
   "id": "e7f58ff4",
   "metadata": {},
   "outputs": [
    {
     "ename": "TypeError",
     "evalue": "can only concatenate str (not \"int\") to str",
     "output_type": "error",
     "traceback": [
      "\u001b[0;31m---------------------------------------------------------------------------\u001b[0m",
      "\u001b[0;31mTypeError\u001b[0m                                 Traceback (most recent call last)",
      "Cell \u001b[0;32mIn[5], line 1\u001b[0m\n\u001b[0;32m----> 1\u001b[0m \u001b[38;5;28mprint\u001b[39m(\u001b[43ma\u001b[49m\u001b[38;5;241;43m+\u001b[39;49m\u001b[43mb\u001b[49m)\n",
      "\u001b[0;31mTypeError\u001b[0m: can only concatenate str (not \"int\") to str"
     ]
    }
   ],
   "source": [
    "print(a+b)"
   ]
  },
  {
   "cell_type": "markdown",
   "id": "a17a59bd",
   "metadata": {},
   "source": [
    "print(a+b)  \n",
    "Output should contain \"Hello 10\" \n",
    "The compilation of the above statement is done properly, but it gives RunTime, more specifically TypeError.  \n",
    "Since, a is string and b is integer."
   ]
  },
  {
   "cell_type": "code",
   "execution_count": 6,
   "id": "ad0e046b",
   "metadata": {},
   "outputs": [
    {
     "name": "stdout",
     "output_type": "stream",
     "text": [
      "Hello 10\n"
     ]
    }
   ],
   "source": [
    "print(a+str(b))\n",
    "# We have to convert b to string to perform the operation."
   ]
  },
  {
   "cell_type": "code",
   "execution_count": 7,
   "id": "e2793fa4",
   "metadata": {},
   "outputs": [
    {
     "name": "stdout",
     "output_type": "stream",
     "text": [
      "----------------------------------------                                                                                     42\n",
      "*-*-*-*-*-*-*-*-*-*-*-*-*-*-*-*-*-*-*-*-"
     ]
    }
   ],
   "source": [
    "# Print out a line of 40 '-' signs (to look like one long line)\n",
    "\n",
    "print('-'*40, end=\"\")\n",
    "\n",
    "# Then print the number 42 so that it is right justified to the end of \n",
    "# the above line\n",
    "\n",
    "print(\"42\".rjust(87))\n",
    "# .rjust() is used to right justify the string with given number of spaces.\n",
    "\n",
    "# Then print one more line of length 40, but with the pattern '*-*-*-' \n",
    "\n",
    "print(\"*-\"*20, end=\"\")"
   ]
  },
  {
   "cell_type": "code",
   "execution_count": 8,
   "id": "9b4e1f03",
   "metadata": {},
   "outputs": [
    {
     "name": "stdout",
     "output_type": "stream",
     "text": [
      "The variable 'a' has the value Hello  and 'b' has the value         10\n"
     ]
    }
   ],
   "source": [
    "print(f\"The variable 'a' has the value {a} and 'b' has the value {b:>10}\")\n",
    "# {:> } also does the right justification of string."
   ]
  },
  {
   "cell_type": "code",
   "execution_count": 9,
   "id": "9d746f81",
   "metadata": {},
   "outputs": [
    {
     "name": "stdout",
     "output_type": "stream",
     "text": [
      "EE2703                      Applied Programming Lab\n",
      "EE2003                        Computer Organization\n",
      "EE5311                            Digital IC Design\n"
     ]
    }
   ],
   "source": [
    "# Create a list of dictionaries where each entry in the list has two keys:\n",
    "# - id: this will be the ID number of a course, for example 'EE2703'\n",
    "# - name: this will be the name, for example 'Applied Programming Lab'\n",
    "# Add 3 entries:\n",
    "# EE2703 -> Applied Programming Lab\n",
    "# EE2003 -> Computer Organization\n",
    "# EE5311 -> Digital IC Design\n",
    "\n",
    "# Creating a list of dictionaries:\n",
    "dict=[{'id':'EE2703', 'name':'Applied Programming Lab'}, \n",
    "      {'id':'EE2003', 'name':'Computer Organization'}, \n",
    "      {'id':'EE5311', 'name':'Digital IC Design'}]\n",
    "\n",
    "# Then print out the entries in a neatly formatted table where the \n",
    "# ID number is left justified\n",
    "# to 10 spaces and the name is right justified to 40 spaces.  \n",
    "# That is it should look like:\n",
    "\n",
    "# EE2703                     Applied Programming Lab\n",
    "# EE2003                       Computer Organization\n",
    "# EE5131                           Digital IC Design\n",
    "\n",
    "# Printing out the entries as per the condition\n",
    "for i in dict:\n",
    "    print (i['id'].ljust(10), i['name'].rjust(40))\n"
   ]
  },
  {
   "cell_type": "markdown",
   "id": "959169d6",
   "metadata": {},
   "source": [
    "# Functions for general manipulation"
   ]
  },
  {
   "cell_type": "markdown",
   "id": "311a304b",
   "metadata": {},
   "source": [
    "## Method 1\n",
    "\n",
    "The below code is used to find the binary representation of number.                                                             \n",
    "1] We continue dividing the number by 2, till it is greater than zero.                                                           \n",
    "2] Simultaneously the remainder obtained on dividing by 2 is appended to the list.                                              \n",
    "3] To get the final representation of the number, we reverse the elements of the list.                                           \n",
    "\n",
    "We continuously divide by 2, because it gives us the number of division steps (n) required to reach the final stage, after which the division of previously obtained quotient is not possible.\n",
    "This n number of division gives us the number of binary positions for the binary digits (0, 1).\n",
    "The n value also defines the power of 2 to be assigned to the binary digits as per its position in final representaion.\n",
    "The power of 2 extends from 0 to (n-1).\n",
    "\n",
    "Starting from the right extreme, at the ith position, if its 1, then its value is 1 x 2^(i-1), else if it is 0, then its value is 0x2^(i-1)."
   ]
  },
  {
   "cell_type": "markdown",
   "id": "e8e7b80d",
   "metadata": {},
   "source": [
    "## Method 2\n",
    "\n",
    "We can also use the bin() function, which is in-built in python to get the binary representation of number.                     \n",
    "It gives us the string format of binary representaion, with \"0b\" in its beginning.                                               \n",
    "I created two cases : when number>0 i.e the binary representation, and other when number<0 i.e twos complement representation.   \n",
    "I have commented these code lines. To use that we can uncomment those lines, and comment the lines for Method 1."
   ]
  },
  {
   "cell_type": "code",
   "execution_count": 10,
   "id": "ece98a4d",
   "metadata": {},
   "outputs": [
    {
     "name": "stdout",
     "output_type": "stream",
     "text": [
      "0000000000001010\n",
      "1111111111110110\n",
      "11101100\n"
     ]
    }
   ],
   "source": [
    "# Write a function with name 'twosc' that will take a single integer \n",
    "# as input, and print out the binary representation of the number \n",
    "# as output.  The function should take one other optional parameter N \n",
    "# which represents the number of bits.  The final result should always \n",
    "# contain N characters as output (either 0 or 1) and should use \n",
    "# two's complement to represent the number if it is negative.\n",
    "# Examples:\n",
    "# twosc(10): 0000000000001010\n",
    "# twosc(-10): 1111111111110110\n",
    "# twosc(-20, 8): 11101100\n",
    "#\n",
    "# Use only functions from the Python standard library to do this.\n",
    "\n",
    "\n",
    "def twosc(x, N=16):\n",
    "    # Method 1\n",
    "    # The below loop gets us the binary representation of the magnitude of that number\n",
    "    absolute=abs(x)\n",
    "    digi=[]\n",
    "    while(absolute>0):\n",
    "        k=absolute%2\n",
    "        digi.append(k) # To append an element to the list\n",
    "        absolute=absolute//2\n",
    "    \n",
    "    digi.reverse() # To reverse the elements of list\n",
    "    binary=\"\" # Adding the list elements to the binary string, to perform further operations on it.\n",
    "    for i in digi:\n",
    "        binary = binary+str(i)\n",
    "\n",
    "    # Method 2 consists of the lines containing the bin() function.\n",
    "    # bin() is in-built python function to get binary representation of a number,\n",
    "    \n",
    "    if(x>=0):\n",
    "        \n",
    "#         binary = bin(x).replace(\"0b\", \"\") # Method 2 line\n",
    "        \n",
    "        length = len(binary)\n",
    "#To print extra zeros, if the optional parameter 'N' representing the number of bits, is greater than the length of binary value\n",
    "        print(\"0\"*(N-length), end=\"\") \n",
    "        print(binary)\n",
    "    \n",
    "    # This case prints out two's complement for negative numbers, \n",
    "    if(x<0): # For two's complement representation\n",
    "        \n",
    "#         binary = bin(abs(x)).replace(\"0b\", \"\")  # Method 2 line\n",
    "        \n",
    "        length = len(binary)\n",
    "        value = ('0'*(N-length))+(binary)\n",
    "        ones_comp=\"\"\n",
    "        \n",
    "        # The below for loop gives us the ones complement representation \n",
    "        for i in range(len(value)):\n",
    "            if(value[i]=='1'):\n",
    "                ones_comp=ones_comp+'0'\n",
    "            elif (value[i]=='0'):\n",
    "                ones_comp=ones_comp+'1'\n",
    "        print(bin(int(ones_comp, 2)+1).replace(\"0b\", \"\")) # This gets us the twos complement representation of the number\n",
    "        # int(ones_comp, 2) gets the integer value of ones_comp using base as 2\n",
    "\n",
    "twosc(10)\n",
    "twosc(-10)\n",
    "twosc(-20, 8)"
   ]
  },
  {
   "cell_type": "markdown",
   "id": "d9845f63",
   "metadata": {},
   "source": [
    "# List comprehensions and decorators"
   ]
  },
  {
   "cell_type": "markdown",
   "id": "b072e8ec",
   "metadata": {},
   "source": [
    "The below code uses list comprehension:\n",
    "\n",
    "It gets us the square of number from 0 to 9(10-1), if its even.\n",
    "\n",
    "The numbers are automatically appended to the end of list."
   ]
  },
  {
   "cell_type": "code",
   "execution_count": 11,
   "id": "9f573a70-d7f0-4496-926f-34b7cff5492f",
   "metadata": {},
   "outputs": [
    {
     "data": {
      "text/plain": [
       "[0, 4, 16, 36, 64]"
      ]
     },
     "execution_count": 11,
     "metadata": {},
     "output_type": "execute_result"
    }
   ],
   "source": [
    "# Explain the output you see below\n",
    "[x*x for x in range(10) if x%2 == 0]\n",
    "\n",
    "# Square of number from 0 to 9(=10-1) is printed as a list if it is even"
   ]
  },
  {
   "cell_type": "markdown",
   "id": "18107118",
   "metadata": {},
   "source": [
    "The below code prints out the individual elements of the matrix, one by one, when going through each row."
   ]
  },
  {
   "cell_type": "code",
   "execution_count": 12,
   "id": "d34ddb81-5caf-40a7-ac1f-43ce08d64220",
   "metadata": {},
   "outputs": [
    {
     "data": {
      "text/plain": [
       "[1, 2, 3, 4, 5, 6, 7, 8, 9]"
      ]
     },
     "execution_count": 12,
     "metadata": {},
     "output_type": "execute_result"
    }
   ],
   "source": [
    "# Explain the output you see below\n",
    "matrix = [[1,2,3], [4,5,6], [7,8,9]]\n",
    "[v for row in matrix for v in row]\n",
    "\n",
    "# this prints every element in a list, list-by-list"
   ]
  },
  {
   "cell_type": "markdown",
   "id": "7e3c4416",
   "metadata": {},
   "source": [
    "The below code prints the prime numbers between 1 and 100:\n",
    "\n",
    "For a number to be prime it should have only two factors, one is 1, and the other the number itself.\n",
    "\n",
    "Numbers 1 and less than 1 are not considered as prime."
   ]
  },
  {
   "cell_type": "code",
   "execution_count": 13,
   "id": "e7349601-a068-4d91-bc0f-bcc755c4b215",
   "metadata": {},
   "outputs": [
    {
     "data": {
      "text/plain": [
       "[2,\n",
       " 3,\n",
       " 5,\n",
       " 7,\n",
       " 11,\n",
       " 13,\n",
       " 17,\n",
       " 19,\n",
       " 23,\n",
       " 29,\n",
       " 31,\n",
       " 37,\n",
       " 41,\n",
       " 43,\n",
       " 47,\n",
       " 53,\n",
       " 59,\n",
       " 61,\n",
       " 67,\n",
       " 71,\n",
       " 73,\n",
       " 79,\n",
       " 83,\n",
       " 89,\n",
       " 97]"
      ]
     },
     "execution_count": 13,
     "metadata": {},
     "output_type": "execute_result"
    }
   ],
   "source": [
    "# Define a function `is_prime(x)` that will return True if a number \n",
    "# is prime, or False otherwise.\n",
    "# Use it to write a one-line statement that will print all \n",
    "# prime numbers between 1 and 100\n",
    "\n",
    "def is_prime(x):\n",
    "    # Number is not prime when it is 1 or less than 1.\n",
    "    if(x<=1):\n",
    "        return False\n",
    "    count=0\n",
    "    # The below for loop checks that the total number of factors is 2.\n",
    "    for i in range(1, int(x+1)):\n",
    "        if(x%i == 0):\n",
    "            count=count+1\n",
    "    if(count==2):\n",
    "        return True\n",
    "    else:\n",
    "        return False\n",
    "    \n",
    "[p for p in range(1, 100) if(is_prime(p))]"
   ]
  },
  {
   "cell_type": "markdown",
   "id": "97a64301",
   "metadata": {},
   "source": [
    "1] f1(x) takes an input 'x', concatenates it with \"happy\", and returns it.                                                       \n",
    "2] f2(f) takes the function 'f' and returns the function wrapper.                                                               \n",
    "3] wrapper functions takes variable length of arguements using the *args and ** kwargs. It returns the string \"Hello\" concantenated with f, which takes variable length of arguements using *args and ** kwargs, and \" world\".                          \n",
    "\n",
    "\n",
    "'*args' is used to pass variable length non keyword argument to the function.                                                   \n",
    "The arguments are passed as a tuple and these passed arguments make tuple inside the function with same name as the parameter excluding asterisk *.                                                    \n",
    "\n",
    "'** kwargs' is used to pass variable length of keyword arguments to the function.\n",
    "The arguments are passed as a dictionary and these arguments make a dictionary inside function with name same as the parameter excluding double asterisk ** ."
   ]
  },
  {
   "cell_type": "code",
   "execution_count": 14,
   "id": "3dd1087b-f384-41a2-88d8-6788336d2291",
   "metadata": {},
   "outputs": [
    {
     "name": "stdout",
     "output_type": "stream",
     "text": [
      "Hello happy flappy world\n"
     ]
    }
   ],
   "source": [
    "# Explain the output below\n",
    "def f1(x):\n",
    "    return \"happy \" + x\n",
    "\n",
    "def f2(f):\n",
    "    def wrapper(*args, **kwargs):\n",
    "        return \"Hello \" + f(*args, **kwargs) + \" world\"\n",
    "    return wrapper\n",
    "\n",
    "# f3 is assigned the return function of f2(f1), i.e the wrapper, which is formed when f1 is fed as the arguemnent to f2().\n",
    "f3 = f2(f1)\n",
    "print(f3(\"flappy\"))\n",
    "\n",
    "# \"flappy\" is passed as string arguement to f3, which then calls f1(\"flappy\"), and at the end the expression is returned as \n",
    "# Hello happy flappy world"
   ]
  },
  {
   "cell_type": "markdown",
   "id": "a0edd7d1",
   "metadata": {},
   "source": [
    "@ is a decorator which is used to extend the functionality of an existing function,                                             \n",
    "Using this f4() works similarly as f3()"
   ]
  },
  {
   "cell_type": "code",
   "execution_count": 15,
   "id": "5017ebd5",
   "metadata": {},
   "outputs": [
    {
     "name": "stdout",
     "output_type": "stream",
     "text": [
      "Hello nappy flappy world\n"
     ]
    }
   ],
   "source": [
    "# Explain the output below\n",
    "@f2\n",
    "\n",
    "def f4(x):\n",
    "    return \"nappy \" + x\n",
    "\n",
    "print(f4(\"flappy\"))"
   ]
  },
  {
   "cell_type": "markdown",
   "id": "de144cc1-a06a-4e96-8017-7887296dddc0",
   "metadata": {},
   "source": [
    "# File IO"
   ]
  },
  {
   "cell_type": "code",
   "execution_count": 16,
   "id": "09e62f52-fec6-4026-a4d8-ca4b87b19732",
   "metadata": {},
   "outputs": [],
   "source": [
    "# Write a function to generate prime numbers from 1 to N (input)\n",
    "# and write them to a file (second argument).  You can reuse the prime\n",
    "# detection function written earlier.\n",
    "\n",
    "# Creating a text file 'prime_nos' and writing in it\n",
    "def write_primes(N, filename):\n",
    "    file = open(filename, \"w\")\n",
    "    for p in range(2, N):\n",
    "        if(is_prime(p)):\n",
    "            file.write(str(p)+\" \")\n",
    "    file.close()\n",
    "\n",
    "write_primes(100, \"prime_nos.txt\")\n",
    "\n",
    "# To read the contents of the file, we can uncomment these below lines.\n",
    "# f = open(\"prime_nos.txt\", 'r')\n",
    "# content = f. read()\n",
    "# print(content)\n",
    "# f. close()"
   ]
  },
  {
   "cell_type": "markdown",
   "id": "9b2de5cb-13c3-4804-9576-e7bb6fd3a371",
   "metadata": {},
   "source": [
    "# Exceptions"
   ]
  },
  {
   "cell_type": "code",
   "execution_count": 17,
   "id": "eec5626e-6e92-45bf-b307-2459de0f44e1",
   "metadata": {},
   "outputs": [
    {
     "name": "stdout",
     "output_type": "stream",
     "text": [
      "Enter a number:  48979853\n"
     ]
    },
    {
     "name": "stdout",
     "output_type": "stream",
     "text": [
      "It is NOT a prime number\n"
     ]
    }
   ],
   "source": [
    "# Write a function that takes in a number as input, and prints out \n",
    "# whether it is a prime or not.  If the input is not an integer,\n",
    "# print an appropriate error message.  Use exceptions to detect problems.\n",
    "def check_prime(x):\n",
    "    try:\n",
    "        if(int(x)): # To check if the number is an integer.\n",
    "            if(is_prime(int(x))):\n",
    "                print(\"It is a prime number\")\n",
    "            else:\n",
    "                print(\"It is NOT a prime number\")\n",
    "    except ValueError:\n",
    "        print(\"The input is not a valid integer\")\n",
    "x = input('Enter a number: ')\n",
    "check_prime(x)"
   ]
  },
  {
   "cell_type": "markdown",
   "id": "2347536b-0424-41cc-93a7-df2660ba1241",
   "metadata": {},
   "source": [
    "Here I have used the try and except statements for handling the error.                                                                           \n",
    "The (int(x)) checks if the entered value is an integer.                                                                                         \n",
    "If it is an integer it runs the try block, else it runs the except block."
   ]
  }
 ],
 "metadata": {
  "authors": [
   {
    "name": "Nitin Chandrachoodan <nitin@ee.iitm.ac.in>"
   }
  ],
  "kernelspec": {
   "display_name": "Python 3 (ipykernel)",
   "language": "python",
   "name": "python3"
  },
  "language_info": {
   "codemirror_mode": {
    "name": "ipython",
    "version": 3
   },
   "file_extension": ".py",
   "mimetype": "text/x-python",
   "name": "python",
   "nbconvert_exporter": "python",
   "pygments_lexer": "ipython3",
   "version": "3.9.2"
  },
  "title": "EE2703 - Week 1",
  "toc-autonumbering": true,
  "vscode": {
   "interpreter": {
    "hash": "16a8eecb8f9eb3b2e65c076b33171c99bac38a9cfb6c2c325e23cb157759f4cc"
   }
  }
 },
 "nbformat": 4,
 "nbformat_minor": 5
}
