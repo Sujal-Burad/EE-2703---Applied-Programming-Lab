{
 "cells": [
  {
   "cell_type": "markdown",
   "id": "b0dc7bc1-8d6c-4fd0-a0e8-5db1df8fca43",
   "metadata": {},
   "source": [
    "# Compilation and Speeding Up\n",
    "\n",
    "Python is an interpreted language.  This means that the code you write is basically being interpreted line by line (this is an oversimplification, but not far from the truth).  Each time a line of code is read, it has to be converted into equivalent machine language instructions.  For example, a `for` loop will need a register to be initialized, an instruction for incrementing the counter, an instruction to check the limits, and suitable branching statements.\n",
    "\n",
    "When a program is *compiled*, it is converted into machine language once and for all, and only that code is then run.  This also means that any change in the code requires a complete recompilation.  Compared to Python, this is less interactive and takes a longer time to do.\n",
    "\n",
    "So compiled languages pay a cost at compile time, and reap the benefits at run time.  If you expect that your program is going to run multiple times, then it is usually worth checking if this cost is worth it."
   ]
  },
  {
   "cell_type": "markdown",
   "id": "37e6f8b6-32bc-4625-9455-c3c4d5512b3e",
   "metadata": {},
   "source": [
    "## Speed of Python\n",
    "\n",
    "Python code is typically slow for a number of reasons:\n",
    "\n",
    "- Data types are not known ahead of time, and the type of a variable can be dynamically changed.  You can store a string in a variable that previously had an `int` for example, and there will be no conflict.  This makes it hard to optimize variables as you do not know how they will change in future.\n",
    "- Semantics of certain operations are different in Python than they are in other languages or machine code.  For example, *Divide by Zero* will cause an exception to be raised in Python code.  On the other hand, in C code it will result in the program crashing.  It may be possible to catch this exception in languages like C++, but it is optional and not mandatory, so it is possible to crash as well.  Such checks add extra code and slow the program down.\n",
    "- Accessing an index that is beyond the bounds of a list will cause an Error to be raised.  In C it will not be an error, but may cause the program to crash with a Segmentation Fault.\n",
    "\n",
    "Similarly, there are other situations where the semantics of the Python code differ from a similar C or machine language representation.  Whenever this happens, there is a chance that the Python will be slower than the raw code.\n",
    "\n",
    "## Improving Speed\n",
    "\n",
    "The simplest approach for speeding things up is to try and convert the Python code to a lower level language like C, compile it, and then run the compiled code.  However, due to the above restrictions, this has to be done with care, to avoid changing the meaning of the program.\n",
    "\n",
    "## Cython\n",
    "\n",
    "*Cython* is a particular variant of the Python language: it introduces several new syntactic elements into the language to address the issues with types and compilation.  The usual way of running it is to compile the code into a dynamic library, and then import this into Python.  However, in Jupyter notebooks, there is an easier approach that can be used, which makes use of the Cython extensions and *magic annotations*."
   ]
  },
  {
   "cell_type": "markdown",
   "id": "32863242-1fbd-4877-a00e-1581be96f196",
   "metadata": {},
   "source": [
    "# Timing and Optimization\n",
    "\n",
    "We first measure the time taken for a simple function.  Then we can look at optimizing this using Cython."
   ]
  },
  {
   "cell_type": "code",
   "execution_count": null,
   "id": "157ec55c-0a02-4ded-a199-af6e708e00e3",
   "metadata": {},
   "outputs": [],
   "source": [
    "def isPrime(n):\n",
    "    for i in range(2,int(n**0.5)+1):\n",
    "        if n%i==0:\n",
    "            return False\n",
    "        \n",
    "    return True"
   ]
  },
  {
   "cell_type": "code",
   "execution_count": null,
   "id": "e2939122-e8da-4f90-b198-1be2c38b2b0c",
   "metadata": {},
   "outputs": [],
   "source": [
    "%timeit isPrime(999999937)"
   ]
  },
  {
   "cell_type": "markdown",
   "id": "2cdff68a-607f-4032-9e53-ce6812f01230",
   "metadata": {},
   "source": [
    "## Cython\n",
    "\n",
    "First we just apply cython without any optimizations.  Later we will see the effect of adding the optimizations to it."
   ]
  },
  {
   "cell_type": "code",
   "execution_count": null,
   "id": "199d5040-7961-46e7-a380-837b7a022133",
   "metadata": {},
   "outputs": [],
   "source": [
    "%load_ext Cython"
   ]
  },
  {
   "cell_type": "code",
   "execution_count": null,
   "id": "ee4f0740-e914-4443-b6c0-e5b1ad261bf8",
   "metadata": {},
   "outputs": [],
   "source": [
    "%%cython --annotate\n",
    "\n",
    "def cbasic_isPrime(n):\n",
    "    for i in range(2,int(n**0.5)+1):\n",
    "        if n%i==0:\n",
    "            return False\n",
    "        \n",
    "    return True"
   ]
  },
  {
   "cell_type": "code",
   "execution_count": null,
   "id": "e86d216a-7f4f-4ea0-ba27-3918836118e8",
   "metadata": {},
   "outputs": [],
   "source": [
    "%timeit cbasic_isPrime(999999937)"
   ]
  },
  {
   "cell_type": "markdown",
   "id": "a7d9f22b-3952-4883-831f-cbeb1c6e3045",
   "metadata": {},
   "source": [
    "### Optimized\n",
    "\n",
    "Now apply several optimizations"
   ]
  },
  {
   "cell_type": "code",
   "execution_count": null,
   "id": "2487e566-d72f-4066-90ce-4532a4e9738e",
   "metadata": {},
   "outputs": [],
   "source": [
    "%%cython --annotate\n",
    "\n",
    "import cython\n",
    "\n",
    "@cython.cdivision(True)\n",
    "def c_isPrime(int n):\n",
    "    cdef int i\n",
    "    cdef float sqrtn = (n**0.5)\n",
    "    cdef int lim = int(sqrtn)+1\n",
    "    for i in range(2,lim):\n",
    "        if n%i==0:\n",
    "            return False\n",
    "        \n",
    "    return True"
   ]
  },
  {
   "cell_type": "code",
   "execution_count": null,
   "id": "35034636-6d73-4640-b463-b9520381faf6",
   "metadata": {},
   "outputs": [],
   "source": [
    "%timeit c_isPrime(999999937)"
   ]
  },
  {
   "cell_type": "markdown",
   "id": "180d5919-995d-45fd-9841-4106aefb95cc",
   "metadata": {},
   "source": [
    "# A bigger example\n",
    "\n",
    "The sum of amicable numbers problem was used in one of the quizzes, and is a somewhat hard problem to solve, as it takes a significant amount of time to run."
   ]
  },
  {
   "cell_type": "code",
   "execution_count": null,
   "id": "46b10e3e-2225-4bc1-844f-3a3b115aa39a",
   "metadata": {},
   "outputs": [],
   "source": [
    "def aliquot(n):\n",
    "    sum = 0 if n==1 else 1  \n",
    "    for i in range(2, n // 2 + 1):\n",
    "        if n % i == 0: \n",
    "            sum += i\n",
    "    return sum \n",
    "\n",
    "def amicable(n1, n2):\n",
    "    s1 = aliquot(n1)\n",
    "    s2 = aliquot(n2)\n",
    "    if n1 != n2 and s1 == n2 and s2 == n1:\n",
    "        return True\n",
    "    else:\n",
    "        return False \n",
    "    # print(f\"aliquot({n}) = {s}\")\n",
    "    \n",
    "def amsum(N):\n",
    "    aliq = [0] * (N+1)\n",
    "    for i in range(2, N+1):\n",
    "        aliq[i] = aliquot(i)\n",
    "\n",
    "    sum = 0\n",
    "    for i in range(2, N+1):\n",
    "        if aliq[i] <= N and i != aliq[i] and i == aliq[aliq[i]]:\n",
    "            # print(f\"Amicable: {i} and {aliq[i]}\")\n",
    "            sum += i\n",
    "    return sum "
   ]
  },
  {
   "cell_type": "code",
   "execution_count": null,
   "id": "c8cba05c-25a1-44a7-92a8-7cd9a0582653",
   "metadata": {},
   "outputs": [],
   "source": [
    "%timeit amsum(10000)"
   ]
  },
  {
   "cell_type": "code",
   "execution_count": null,
   "id": "3d5c4c1a-a2a2-4215-83c4-eeaaea9c5666",
   "metadata": {},
   "outputs": [],
   "source": [
    "%%cython --annotate\n",
    "\n",
    "import cython\n",
    "\n",
    "@cython.cdivision(True)\n",
    "cpdef c_aliquot(int n):\n",
    "    cdef int sum\n",
    "    cdef int i\n",
    "    sum = 0 if n==1 else 1  \n",
    "    for i in range(2, n // 2 + 1):\n",
    "        if n % i == 0: \n",
    "            sum += i\n",
    "    return sum \n",
    "\n",
    "def c_amsum(int N):\n",
    "    # Hack follows since we need to statically allocate - use malloc instead\n",
    "    cdef int[100000] aliq \n",
    "    cdef int i\n",
    "    cdef int sum\n",
    "    for i in range(2, N+1):\n",
    "        aliq[i] = c_aliquot(i)\n",
    "\n",
    "    sum = 0\n",
    "    for i in range(2, N+1):\n",
    "        if aliq[i] <= N and i != aliq[i] and i == aliq[aliq[i]]:\n",
    "            # print(f\"Amicable: {i} and {aliq[i]}\")\n",
    "            sum += i\n",
    "    return sum "
   ]
  },
  {
   "cell_type": "code",
   "execution_count": null,
   "id": "e810a2f8-f350-4b50-926d-73a367b59cac",
   "metadata": {},
   "outputs": [],
   "source": [
    "%timeit c_amsum(70000)"
   ]
  },
  {
   "cell_type": "code",
   "execution_count": null,
   "id": "e81932db-b4de-4f43-a853-bf6fde24294e",
   "metadata": {},
   "outputs": [],
   "source": []
  }
 ],
 "metadata": {
  "kernelspec": {
   "display_name": "Python 3 (ipykernel)",
   "language": "python",
   "name": "python3"
  },
  "language_info": {
   "codemirror_mode": {
    "name": "ipython",
    "version": 3
   },
   "file_extension": ".py",
   "mimetype": "text/x-python",
   "name": "python",
   "nbconvert_exporter": "python",
   "pygments_lexer": "ipython3",
   "version": "3.9.12"
  }
 },
 "nbformat": 4,
 "nbformat_minor": 5
}
