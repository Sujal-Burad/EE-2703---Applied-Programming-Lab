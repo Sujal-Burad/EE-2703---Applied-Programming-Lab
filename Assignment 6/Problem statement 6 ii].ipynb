{
 "cells": [
  {
   "attachments": {},
   "cell_type": "markdown",
   "id": "0844afb4",
   "metadata": {},
   "source": [
    "# Assignment Goals\n",
    "\n",
    "Assignment 6 requires you to implement gradient descent based optimization.  \n",
    "\n",
    "- Minimum requirement: adapt the code from the presentation to optimize as many of the functions below as possible.\n",
    "- Write a generic function that will take in 2 other functions as input, and a range of values within which to search, and then implement gradient descent to find the optimum.  The basic requirements of gradient descent are already available in the presentation.\n",
    "-  For some assignments, the gradient has not been given.  You can either write the function on your own, or suggest other methods that can achieve this purpose."
   ]
  },
  {
   "cell_type": "code",
   "execution_count": 14,
   "id": "e669c869-9fd2-4428-985d-0e8583613c33",
   "metadata": {},
   "outputs": [],
   "source": [
    "# The following imports are assumed for the rest of the problems\n",
    "import numpy as np\n",
    "from numpy import cos, sin, pi, exp "
   ]
  },
  {
   "attachments": {},
   "cell_type": "markdown",
   "id": "cdffc3cc",
   "metadata": {},
   "source": [
    "## Problem 1 - 1-D simple polynomial\n",
    "\n",
    "The gradient is not specified.  You can write the function for gradient on your own.  The range within which to search for minimum is [-5, 5]."
   ]
  },
  {
   "cell_type": "code",
   "execution_count": null,
   "id": "5df21fc4",
   "metadata": {},
   "outputs": [],
   "source": [
    "def f1(x):\n",
    "    return x ** 2 + 3 * x + 8"
   ]
  },
  {
   "attachments": {},
   "cell_type": "markdown",
   "id": "e6f81aa8",
   "metadata": {},
   "source": [
    "## Problem 2 - 2-D polynomial\n",
    "\n",
    "Functions for derivatives, as well as the range of values within which to search for the minimum, are given."
   ]
  },
  {
   "cell_type": "code",
   "execution_count": 17,
   "id": "6535029a-caea-4da4-a613-fb6a2d69491c",
   "metadata": {},
   "outputs": [],
   "source": [
    "xlim3 =  [-10, 10]\n",
    "ylim3 =  [-10, 10]\n",
    "def f3(x, y):\n",
    "    return x**4 - 16*x**3 + 96*x**2 - 256*x + y**2 - 4*y + 262\n",
    "\n",
    "def df3_dx(x, y):\n",
    "    return 4*x**3 - 48*x**2 + 192*x - 256\n",
    "\n",
    "def df3_dy(x, y):\n",
    "    return 2*y - 4\n"
   ]
  },
  {
   "attachments": {},
   "cell_type": "markdown",
   "id": "d7336ff0",
   "metadata": {},
   "source": [
    "## Problem 3 - 2-D function \n",
    "\n",
    "Derivatives and limits given. "
   ]
  },
  {
   "cell_type": "code",
   "execution_count": 18,
   "id": "a08ed29e-d92d-4f8d-8785-e9b804dadd36",
   "metadata": {},
   "outputs": [],
   "source": [
    "xlim4 = [-pi, pi]\n",
    "def f4(x,y):\n",
    "    return exp(-(x - y)**2)*sin(y)\n",
    "\n",
    "def f4_dx(x, y):\n",
    "    return -2*exp(-(x - y)**2)*sin(y)*(x - y)\n",
    "\n",
    "def f4_dy(x, y):\n",
    "    return exp(-(x - y)**2)*cos(y) + 2*exp(-(x - y)**2)*sin(y)*(x - y)\n"
   ]
  },
  {
   "attachments": {},
   "cell_type": "markdown",
   "id": "75f357cd",
   "metadata": {},
   "source": [
    "## Problem 4 - 1-D trigonometric\n",
    "\n",
    "Derivative not given.  Optimization range [0, 2*pi]"
   ]
  },
  {
   "cell_type": "code",
   "execution_count": 19,
   "id": "b4684cb5-714d-422e-9e4c-2ea02f865951",
   "metadata": {},
   "outputs": [],
   "source": [
    "def f5(x):\n",
    "    return cos(x)**4 - sin(x)**3 - 4*sin(x)**2 + cos(x) + 1\n"
   ]
  },
  {
   "cell_type": "code",
   "execution_count": null,
   "id": "751d86b0-0c91-410d-89af-ab9118cf7866",
   "metadata": {},
   "outputs": [],
   "source": []
  }
 ],
 "metadata": {
  "kernelspec": {
   "display_name": "Python 3 (ipykernel)",
   "language": "python",
   "name": "python3"
  },
  "language_info": {
   "codemirror_mode": {
    "name": "ipython",
    "version": 3
   },
   "file_extension": ".py",
   "mimetype": "text/x-python",
   "name": "python",
   "nbconvert_exporter": "python",
   "pygments_lexer": "ipython3",
   "version": "3.9.2"
  }
 },
 "nbformat": 4,
 "nbformat_minor": 5
}
